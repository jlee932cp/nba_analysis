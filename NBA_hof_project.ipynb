{
  "nbformat": 4,
  "nbformat_minor": 0,
  "metadata": {
    "colab": {
      "provenance": []
    },
    "kernelspec": {
      "name": "python3",
      "display_name": "Python 3"
    },
    "language_info": {
      "name": "python"
    }
  },
  "cells": [
    {
      "cell_type": "markdown",
      "source": [
        "# TO HALL OF FAME OR NOT TO HALL OF FAME...\n",
        "\n",
        "March 09,2023"
      ],
      "metadata": {
        "id": "V-jnnMyCgESy"
      }
    },
    {
      "cell_type": "markdown",
      "source": [
        "\n",
        "Alan Mondragon alan.mondra95@gmail.com Joseph Lee jlee932cp@gmail.com"
      ],
      "metadata": {
        "id": "2GQRRV_-urJd"
      }
    },
    {
      "cell_type": "markdown",
      "source": [
        "#Background:"
      ],
      "metadata": {
        "id": "P5rK8ae5fZ7U"
      }
    },
    {
      "cell_type": "markdown",
      "source": [
        "Our goal for this analysis is to find key characteristics that determine if a NBA player will make the Hall of Fame or not. The reason for our analysis is due to some historically great players being left out of the HOF. We want to know how these players stack up against other players that made the HOF with similar player profiles.\n",
        "\n",
        "We knew that some milestones would definitely get a player inducted into the HOF, and we wanted to explore what those qualifications might be. Some of our assumptions include MVP awards, All Star game selections, and championships won."
      ],
      "metadata": {
        "id": "L2eLGUnyk9it"
      }
    },
    {
      "cell_type": "markdown",
      "source": [
        "Hypothesis: We beleive that a combination of achievements play the biggest factor in determining if a NBA player will be in the Hall of Fame (HOF)."
      ],
      "metadata": {
        "id": "XVZAGWz6rdNy"
      }
    },
    {
      "cell_type": "code",
      "execution_count": null,
      "metadata": {
        "id": "wfl29pmgIOR1"
      },
      "outputs": [],
      "source": [
        "import pandas as pd\n",
        "import matplotlib as plt\n",
        "import matplotlib.pyplot as plt\n",
        "import numpy as np\n",
        "import seaborn as sns\n",
        "import plotly.express as px"
      ]
    },
    {
      "cell_type": "code",
      "source": [
        "df1 = pd.read_csv('/content/NBA Hall of Famers NEW.csv')\n",
        "df1.head()"
      ],
      "metadata": {
        "colab": {
          "base_uri": "https://localhost:8080/",
          "height": 374
        },
        "id": "c1d9yoj2pq1C",
        "outputId": "81643bb4-205e-430f-be6a-d19bfd6dd625"
      },
      "execution_count": null,
      "outputs": [
        {
          "output_type": "execute_result",
          "data": {
            "text/plain": [
              "                  Name position  All_star_selections  In_Hall_of_fame  height  \\\n",
              "0  Kareem Abdul-Jabbar        C                   19                1     218   \n",
              "1          Kobe Bryant        G                   18                1     198   \n",
              "2         LeBron James        F                   17                2     203   \n",
              "3           Tim Duncan        F                   15                1     211   \n",
              "4        Kevin Garnett        F                   15                1     211   \n",
              "\n",
              "   weight  born  Championships  MVP    PTS   FG%   FT%    REB    AST     STL  \\\n",
              "0     102  1947              6    6  38387  55.9  72.1  17440   5660  1160.0   \n",
              "1      96  1978              5    1  33643  44.7  83.7   7047   6306  1944.0   \n",
              "2     113  1984              4    4  38450  50.5  73.5  10606  10371  2180.0   \n",
              "3     113  1976              5    2  26496  50.6  69.6  15091   4225  1025.0   \n",
              "4     108  1976              0    1  26071  49.7  78.9  14662   5445  1859.0   \n",
              "\n",
              "      BLK  EFG%  \n",
              "0  3189.0  55.9  \n",
              "1   640.0  48.2  \n",
              "2  1067.0  54.5  \n",
              "3  3020.0  50.7  \n",
              "4  2037.0  50.1  "
            ],
            "text/html": [
              "\n",
              "  <div id=\"df-1f01d334-fc42-4962-8870-d6e542059125\">\n",
              "    <div class=\"colab-df-container\">\n",
              "      <div>\n",
              "<style scoped>\n",
              "    .dataframe tbody tr th:only-of-type {\n",
              "        vertical-align: middle;\n",
              "    }\n",
              "\n",
              "    .dataframe tbody tr th {\n",
              "        vertical-align: top;\n",
              "    }\n",
              "\n",
              "    .dataframe thead th {\n",
              "        text-align: right;\n",
              "    }\n",
              "</style>\n",
              "<table border=\"1\" class=\"dataframe\">\n",
              "  <thead>\n",
              "    <tr style=\"text-align: right;\">\n",
              "      <th></th>\n",
              "      <th>Name</th>\n",
              "      <th>position</th>\n",
              "      <th>All_star_selections</th>\n",
              "      <th>In_Hall_of_fame</th>\n",
              "      <th>height</th>\n",
              "      <th>weight</th>\n",
              "      <th>born</th>\n",
              "      <th>Championships</th>\n",
              "      <th>MVP</th>\n",
              "      <th>PTS</th>\n",
              "      <th>FG%</th>\n",
              "      <th>FT%</th>\n",
              "      <th>REB</th>\n",
              "      <th>AST</th>\n",
              "      <th>STL</th>\n",
              "      <th>BLK</th>\n",
              "      <th>EFG%</th>\n",
              "    </tr>\n",
              "  </thead>\n",
              "  <tbody>\n",
              "    <tr>\n",
              "      <th>0</th>\n",
              "      <td>Kareem Abdul-Jabbar</td>\n",
              "      <td>C</td>\n",
              "      <td>19</td>\n",
              "      <td>1</td>\n",
              "      <td>218</td>\n",
              "      <td>102</td>\n",
              "      <td>1947</td>\n",
              "      <td>6</td>\n",
              "      <td>6</td>\n",
              "      <td>38387</td>\n",
              "      <td>55.9</td>\n",
              "      <td>72.1</td>\n",
              "      <td>17440</td>\n",
              "      <td>5660</td>\n",
              "      <td>1160.0</td>\n",
              "      <td>3189.0</td>\n",
              "      <td>55.9</td>\n",
              "    </tr>\n",
              "    <tr>\n",
              "      <th>1</th>\n",
              "      <td>Kobe Bryant</td>\n",
              "      <td>G</td>\n",
              "      <td>18</td>\n",
              "      <td>1</td>\n",
              "      <td>198</td>\n",
              "      <td>96</td>\n",
              "      <td>1978</td>\n",
              "      <td>5</td>\n",
              "      <td>1</td>\n",
              "      <td>33643</td>\n",
              "      <td>44.7</td>\n",
              "      <td>83.7</td>\n",
              "      <td>7047</td>\n",
              "      <td>6306</td>\n",
              "      <td>1944.0</td>\n",
              "      <td>640.0</td>\n",
              "      <td>48.2</td>\n",
              "    </tr>\n",
              "    <tr>\n",
              "      <th>2</th>\n",
              "      <td>LeBron James</td>\n",
              "      <td>F</td>\n",
              "      <td>17</td>\n",
              "      <td>2</td>\n",
              "      <td>203</td>\n",
              "      <td>113</td>\n",
              "      <td>1984</td>\n",
              "      <td>4</td>\n",
              "      <td>4</td>\n",
              "      <td>38450</td>\n",
              "      <td>50.5</td>\n",
              "      <td>73.5</td>\n",
              "      <td>10606</td>\n",
              "      <td>10371</td>\n",
              "      <td>2180.0</td>\n",
              "      <td>1067.0</td>\n",
              "      <td>54.5</td>\n",
              "    </tr>\n",
              "    <tr>\n",
              "      <th>3</th>\n",
              "      <td>Tim Duncan</td>\n",
              "      <td>F</td>\n",
              "      <td>15</td>\n",
              "      <td>1</td>\n",
              "      <td>211</td>\n",
              "      <td>113</td>\n",
              "      <td>1976</td>\n",
              "      <td>5</td>\n",
              "      <td>2</td>\n",
              "      <td>26496</td>\n",
              "      <td>50.6</td>\n",
              "      <td>69.6</td>\n",
              "      <td>15091</td>\n",
              "      <td>4225</td>\n",
              "      <td>1025.0</td>\n",
              "      <td>3020.0</td>\n",
              "      <td>50.7</td>\n",
              "    </tr>\n",
              "    <tr>\n",
              "      <th>4</th>\n",
              "      <td>Kevin Garnett</td>\n",
              "      <td>F</td>\n",
              "      <td>15</td>\n",
              "      <td>1</td>\n",
              "      <td>211</td>\n",
              "      <td>108</td>\n",
              "      <td>1976</td>\n",
              "      <td>0</td>\n",
              "      <td>1</td>\n",
              "      <td>26071</td>\n",
              "      <td>49.7</td>\n",
              "      <td>78.9</td>\n",
              "      <td>14662</td>\n",
              "      <td>5445</td>\n",
              "      <td>1859.0</td>\n",
              "      <td>2037.0</td>\n",
              "      <td>50.1</td>\n",
              "    </tr>\n",
              "  </tbody>\n",
              "</table>\n",
              "</div>\n",
              "      <button class=\"colab-df-convert\" onclick=\"convertToInteractive('df-1f01d334-fc42-4962-8870-d6e542059125')\"\n",
              "              title=\"Convert this dataframe to an interactive table.\"\n",
              "              style=\"display:none;\">\n",
              "        \n",
              "  <svg xmlns=\"http://www.w3.org/2000/svg\" height=\"24px\"viewBox=\"0 0 24 24\"\n",
              "       width=\"24px\">\n",
              "    <path d=\"M0 0h24v24H0V0z\" fill=\"none\"/>\n",
              "    <path d=\"M18.56 5.44l.94 2.06.94-2.06 2.06-.94-2.06-.94-.94-2.06-.94 2.06-2.06.94zm-11 1L8.5 8.5l.94-2.06 2.06-.94-2.06-.94L8.5 2.5l-.94 2.06-2.06.94zm10 10l.94 2.06.94-2.06 2.06-.94-2.06-.94-.94-2.06-.94 2.06-2.06.94z\"/><path d=\"M17.41 7.96l-1.37-1.37c-.4-.4-.92-.59-1.43-.59-.52 0-1.04.2-1.43.59L10.3 9.45l-7.72 7.72c-.78.78-.78 2.05 0 2.83L4 21.41c.39.39.9.59 1.41.59.51 0 1.02-.2 1.41-.59l7.78-7.78 2.81-2.81c.8-.78.8-2.07 0-2.86zM5.41 20L4 18.59l7.72-7.72 1.47 1.35L5.41 20z\"/>\n",
              "  </svg>\n",
              "      </button>\n",
              "      \n",
              "  <style>\n",
              "    .colab-df-container {\n",
              "      display:flex;\n",
              "      flex-wrap:wrap;\n",
              "      gap: 12px;\n",
              "    }\n",
              "\n",
              "    .colab-df-convert {\n",
              "      background-color: #E8F0FE;\n",
              "      border: none;\n",
              "      border-radius: 50%;\n",
              "      cursor: pointer;\n",
              "      display: none;\n",
              "      fill: #1967D2;\n",
              "      height: 32px;\n",
              "      padding: 0 0 0 0;\n",
              "      width: 32px;\n",
              "    }\n",
              "\n",
              "    .colab-df-convert:hover {\n",
              "      background-color: #E2EBFA;\n",
              "      box-shadow: 0px 1px 2px rgba(60, 64, 67, 0.3), 0px 1px 3px 1px rgba(60, 64, 67, 0.15);\n",
              "      fill: #174EA6;\n",
              "    }\n",
              "\n",
              "    [theme=dark] .colab-df-convert {\n",
              "      background-color: #3B4455;\n",
              "      fill: #D2E3FC;\n",
              "    }\n",
              "\n",
              "    [theme=dark] .colab-df-convert:hover {\n",
              "      background-color: #434B5C;\n",
              "      box-shadow: 0px 1px 3px 1px rgba(0, 0, 0, 0.15);\n",
              "      filter: drop-shadow(0px 1px 2px rgba(0, 0, 0, 0.3));\n",
              "      fill: #FFFFFF;\n",
              "    }\n",
              "  </style>\n",
              "\n",
              "      <script>\n",
              "        const buttonEl =\n",
              "          document.querySelector('#df-1f01d334-fc42-4962-8870-d6e542059125 button.colab-df-convert');\n",
              "        buttonEl.style.display =\n",
              "          google.colab.kernel.accessAllowed ? 'block' : 'none';\n",
              "\n",
              "        async function convertToInteractive(key) {\n",
              "          const element = document.querySelector('#df-1f01d334-fc42-4962-8870-d6e542059125');\n",
              "          const dataTable =\n",
              "            await google.colab.kernel.invokeFunction('convertToInteractive',\n",
              "                                                     [key], {});\n",
              "          if (!dataTable) return;\n",
              "\n",
              "          const docLinkHtml = 'Like what you see? Visit the ' +\n",
              "            '<a target=\"_blank\" href=https://colab.research.google.com/notebooks/data_table.ipynb>data table notebook</a>'\n",
              "            + ' to learn more about interactive tables.';\n",
              "          element.innerHTML = '';\n",
              "          dataTable['output_type'] = 'display_data';\n",
              "          await google.colab.output.renderOutput(dataTable, element);\n",
              "          const docLink = document.createElement('div');\n",
              "          docLink.innerHTML = docLinkHtml;\n",
              "          element.appendChild(docLink);\n",
              "        }\n",
              "      </script>\n",
              "    </div>\n",
              "  </div>\n",
              "  "
            ]
          },
          "metadata": {},
          "execution_count": 5
        }
      ]
    },
    {
      "cell_type": "markdown",
      "source": [
        "Looking at the data types."
      ],
      "metadata": {
        "id": "n4GziV20J8-W"
      }
    },
    {
      "cell_type": "code",
      "source": [
        "df1.dtypes"
      ],
      "metadata": {
        "id": "CGLVdSfjIXJ0",
        "colab": {
          "base_uri": "https://localhost:8080/"
        },
        "outputId": "f27ef905-5cc0-44a2-d3a7-5ca932ed8075"
      },
      "execution_count": null,
      "outputs": [
        {
          "output_type": "execute_result",
          "data": {
            "text/plain": [
              "Name                    object\n",
              "position                object\n",
              "All_star_selections      int64\n",
              "In_Hall_of_fame          int64\n",
              "height                   int64\n",
              "weight                   int64\n",
              "born                     int64\n",
              "Championships            int64\n",
              "MVP                      int64\n",
              "PTS                      int64\n",
              "FG%                    float64\n",
              "FT%                    float64\n",
              "REB                      int64\n",
              "AST                      int64\n",
              "STL                    float64\n",
              "BLK                    float64\n",
              "EFG%                   float64\n",
              "dtype: object"
            ]
          },
          "metadata": {},
          "execution_count": 6
        }
      ]
    },
    {
      "cell_type": "code",
      "source": [
        "df1.columns"
      ],
      "metadata": {
        "colab": {
          "base_uri": "https://localhost:8080/"
        },
        "id": "AMNDOpbgnAa7",
        "outputId": "d1378cd4-52cc-4dcd-d4f8-85a7d1bdcfb5"
      },
      "execution_count": null,
      "outputs": [
        {
          "output_type": "execute_result",
          "data": {
            "text/plain": [
              "Index(['Name', 'position', 'All_star_selections', 'In_Hall_of_fame', 'height',\n",
              "       'weight', 'born', 'Championships', 'MVP', 'PTS', 'FG%', 'FT%', 'REB',\n",
              "       'AST', 'STL', 'BLK', 'EFG%'],\n",
              "      dtype='object')"
            ]
          },
          "metadata": {},
          "execution_count": 7
        }
      ]
    },
    {
      "cell_type": "code",
      "source": [
        "dummy_variable_1 = pd.get_dummies(df1[\"position\"])\n",
        "dummy_variable_1.rename(columns={'C': 'Center', 'F': 'Forward', 'G': 'Guard'}, inplace=True)\n",
        "dummy_variable_1.head(5)"
      ],
      "metadata": {
        "colab": {
          "base_uri": "https://localhost:8080/",
          "height": 206
        },
        "id": "axmVh1pcIW-h",
        "outputId": "0b17fc92-179a-4c32-dd24-c0d6e82cb40d"
      },
      "execution_count": null,
      "outputs": [
        {
          "output_type": "execute_result",
          "data": {
            "text/plain": [
              "   Center  Forward  Guard\n",
              "0       1        0      0\n",
              "1       0        0      1\n",
              "2       0        1      0\n",
              "3       0        1      0\n",
              "4       0        1      0"
            ],
            "text/html": [
              "\n",
              "  <div id=\"df-cf6bdd0a-304a-4366-b1dc-ce1f99524c30\">\n",
              "    <div class=\"colab-df-container\">\n",
              "      <div>\n",
              "<style scoped>\n",
              "    .dataframe tbody tr th:only-of-type {\n",
              "        vertical-align: middle;\n",
              "    }\n",
              "\n",
              "    .dataframe tbody tr th {\n",
              "        vertical-align: top;\n",
              "    }\n",
              "\n",
              "    .dataframe thead th {\n",
              "        text-align: right;\n",
              "    }\n",
              "</style>\n",
              "<table border=\"1\" class=\"dataframe\">\n",
              "  <thead>\n",
              "    <tr style=\"text-align: right;\">\n",
              "      <th></th>\n",
              "      <th>Center</th>\n",
              "      <th>Forward</th>\n",
              "      <th>Guard</th>\n",
              "    </tr>\n",
              "  </thead>\n",
              "  <tbody>\n",
              "    <tr>\n",
              "      <th>0</th>\n",
              "      <td>1</td>\n",
              "      <td>0</td>\n",
              "      <td>0</td>\n",
              "    </tr>\n",
              "    <tr>\n",
              "      <th>1</th>\n",
              "      <td>0</td>\n",
              "      <td>0</td>\n",
              "      <td>1</td>\n",
              "    </tr>\n",
              "    <tr>\n",
              "      <th>2</th>\n",
              "      <td>0</td>\n",
              "      <td>1</td>\n",
              "      <td>0</td>\n",
              "    </tr>\n",
              "    <tr>\n",
              "      <th>3</th>\n",
              "      <td>0</td>\n",
              "      <td>1</td>\n",
              "      <td>0</td>\n",
              "    </tr>\n",
              "    <tr>\n",
              "      <th>4</th>\n",
              "      <td>0</td>\n",
              "      <td>1</td>\n",
              "      <td>0</td>\n",
              "    </tr>\n",
              "  </tbody>\n",
              "</table>\n",
              "</div>\n",
              "      <button class=\"colab-df-convert\" onclick=\"convertToInteractive('df-cf6bdd0a-304a-4366-b1dc-ce1f99524c30')\"\n",
              "              title=\"Convert this dataframe to an interactive table.\"\n",
              "              style=\"display:none;\">\n",
              "        \n",
              "  <svg xmlns=\"http://www.w3.org/2000/svg\" height=\"24px\"viewBox=\"0 0 24 24\"\n",
              "       width=\"24px\">\n",
              "    <path d=\"M0 0h24v24H0V0z\" fill=\"none\"/>\n",
              "    <path d=\"M18.56 5.44l.94 2.06.94-2.06 2.06-.94-2.06-.94-.94-2.06-.94 2.06-2.06.94zm-11 1L8.5 8.5l.94-2.06 2.06-.94-2.06-.94L8.5 2.5l-.94 2.06-2.06.94zm10 10l.94 2.06.94-2.06 2.06-.94-2.06-.94-.94-2.06-.94 2.06-2.06.94z\"/><path d=\"M17.41 7.96l-1.37-1.37c-.4-.4-.92-.59-1.43-.59-.52 0-1.04.2-1.43.59L10.3 9.45l-7.72 7.72c-.78.78-.78 2.05 0 2.83L4 21.41c.39.39.9.59 1.41.59.51 0 1.02-.2 1.41-.59l7.78-7.78 2.81-2.81c.8-.78.8-2.07 0-2.86zM5.41 20L4 18.59l7.72-7.72 1.47 1.35L5.41 20z\"/>\n",
              "  </svg>\n",
              "      </button>\n",
              "      \n",
              "  <style>\n",
              "    .colab-df-container {\n",
              "      display:flex;\n",
              "      flex-wrap:wrap;\n",
              "      gap: 12px;\n",
              "    }\n",
              "\n",
              "    .colab-df-convert {\n",
              "      background-color: #E8F0FE;\n",
              "      border: none;\n",
              "      border-radius: 50%;\n",
              "      cursor: pointer;\n",
              "      display: none;\n",
              "      fill: #1967D2;\n",
              "      height: 32px;\n",
              "      padding: 0 0 0 0;\n",
              "      width: 32px;\n",
              "    }\n",
              "\n",
              "    .colab-df-convert:hover {\n",
              "      background-color: #E2EBFA;\n",
              "      box-shadow: 0px 1px 2px rgba(60, 64, 67, 0.3), 0px 1px 3px 1px rgba(60, 64, 67, 0.15);\n",
              "      fill: #174EA6;\n",
              "    }\n",
              "\n",
              "    [theme=dark] .colab-df-convert {\n",
              "      background-color: #3B4455;\n",
              "      fill: #D2E3FC;\n",
              "    }\n",
              "\n",
              "    [theme=dark] .colab-df-convert:hover {\n",
              "      background-color: #434B5C;\n",
              "      box-shadow: 0px 1px 3px 1px rgba(0, 0, 0, 0.15);\n",
              "      filter: drop-shadow(0px 1px 2px rgba(0, 0, 0, 0.3));\n",
              "      fill: #FFFFFF;\n",
              "    }\n",
              "  </style>\n",
              "\n",
              "      <script>\n",
              "        const buttonEl =\n",
              "          document.querySelector('#df-cf6bdd0a-304a-4366-b1dc-ce1f99524c30 button.colab-df-convert');\n",
              "        buttonEl.style.display =\n",
              "          google.colab.kernel.accessAllowed ? 'block' : 'none';\n",
              "\n",
              "        async function convertToInteractive(key) {\n",
              "          const element = document.querySelector('#df-cf6bdd0a-304a-4366-b1dc-ce1f99524c30');\n",
              "          const dataTable =\n",
              "            await google.colab.kernel.invokeFunction('convertToInteractive',\n",
              "                                                     [key], {});\n",
              "          if (!dataTable) return;\n",
              "\n",
              "          const docLinkHtml = 'Like what you see? Visit the ' +\n",
              "            '<a target=\"_blank\" href=https://colab.research.google.com/notebooks/data_table.ipynb>data table notebook</a>'\n",
              "            + ' to learn more about interactive tables.';\n",
              "          element.innerHTML = '';\n",
              "          dataTable['output_type'] = 'display_data';\n",
              "          await google.colab.output.renderOutput(dataTable, element);\n",
              "          const docLink = document.createElement('div');\n",
              "          docLink.innerHTML = docLinkHtml;\n",
              "          element.appendChild(docLink);\n",
              "        }\n",
              "      </script>\n",
              "    </div>\n",
              "  </div>\n",
              "  "
            ]
          },
          "metadata": {},
          "execution_count": 8
        }
      ]
    },
    {
      "cell_type": "code",
      "source": [
        "df1 = pd.concat([df1, dummy_variable_1], axis=1)"
      ],
      "metadata": {
        "id": "qawingUwIW7f"
      },
      "execution_count": null,
      "outputs": []
    },
    {
      "cell_type": "code",
      "source": [
        "dummy_variable_2 = pd.get_dummies(df1[\"In_Hall_of_fame\"])\n",
        "dummy_variable_2.rename(columns={1: 'In the Hall of fame', 2: 'Active player', 0: 'Not in the HOF/ retired'}, inplace=True)\n",
        "dummy_variable_2.head()"
      ],
      "metadata": {
        "id": "9_XINNa4IW45"
      },
      "execution_count": null,
      "outputs": []
    },
    {
      "cell_type": "code",
      "source": [
        "df1.head()"
      ],
      "metadata": {
        "colab": {
          "base_uri": "https://localhost:8080/",
          "height": 374
        },
        "id": "z059ZxQbYygC",
        "outputId": "5c2385d4-cd47-4838-83e5-ec30ae1a9cb9"
      },
      "execution_count": null,
      "outputs": [
        {
          "output_type": "execute_result",
          "data": {
            "text/plain": [
              "                  Name position  All_star_selections  In_Hall_of_fame  height  \\\n",
              "0  Kareem Abdul-Jabbar        C                   19                1     218   \n",
              "1          Kobe Bryant        G                   18                1     198   \n",
              "2         LeBron James        F                   17                2     203   \n",
              "3           Tim Duncan        F                   15                1     211   \n",
              "4        Kevin Garnett        F                   15                1     211   \n",
              "\n",
              "   weight  born  Championships  MVP    PTS   FG%   FT%    REB    AST     STL  \\\n",
              "0     102  1947              6    6  38387  55.9  72.1  17440   5660  1160.0   \n",
              "1      96  1978              5    1  33643  44.7  83.7   7047   6306  1944.0   \n",
              "2     113  1984              4    4  38450  50.5  73.5  10606  10371  2180.0   \n",
              "3     113  1976              5    2  26496  50.6  69.6  15091   4225  1025.0   \n",
              "4     108  1976              0    1  26071  49.7  78.9  14662   5445  1859.0   \n",
              "\n",
              "      BLK  EFG%  Center  Forward  Guard  \n",
              "0  3189.0  55.9       1        0      0  \n",
              "1   640.0  48.2       0        0      1  \n",
              "2  1067.0  54.5       0        1      0  \n",
              "3  3020.0  50.7       0        1      0  \n",
              "4  2037.0  50.1       0        1      0  "
            ],
            "text/html": [
              "\n",
              "  <div id=\"df-aff0a9da-ef25-4a02-b496-b6ba04eb0df1\">\n",
              "    <div class=\"colab-df-container\">\n",
              "      <div>\n",
              "<style scoped>\n",
              "    .dataframe tbody tr th:only-of-type {\n",
              "        vertical-align: middle;\n",
              "    }\n",
              "\n",
              "    .dataframe tbody tr th {\n",
              "        vertical-align: top;\n",
              "    }\n",
              "\n",
              "    .dataframe thead th {\n",
              "        text-align: right;\n",
              "    }\n",
              "</style>\n",
              "<table border=\"1\" class=\"dataframe\">\n",
              "  <thead>\n",
              "    <tr style=\"text-align: right;\">\n",
              "      <th></th>\n",
              "      <th>Name</th>\n",
              "      <th>position</th>\n",
              "      <th>All_star_selections</th>\n",
              "      <th>In_Hall_of_fame</th>\n",
              "      <th>height</th>\n",
              "      <th>weight</th>\n",
              "      <th>born</th>\n",
              "      <th>Championships</th>\n",
              "      <th>MVP</th>\n",
              "      <th>PTS</th>\n",
              "      <th>FG%</th>\n",
              "      <th>FT%</th>\n",
              "      <th>REB</th>\n",
              "      <th>AST</th>\n",
              "      <th>STL</th>\n",
              "      <th>BLK</th>\n",
              "      <th>EFG%</th>\n",
              "      <th>Center</th>\n",
              "      <th>Forward</th>\n",
              "      <th>Guard</th>\n",
              "    </tr>\n",
              "  </thead>\n",
              "  <tbody>\n",
              "    <tr>\n",
              "      <th>0</th>\n",
              "      <td>Kareem Abdul-Jabbar</td>\n",
              "      <td>C</td>\n",
              "      <td>19</td>\n",
              "      <td>1</td>\n",
              "      <td>218</td>\n",
              "      <td>102</td>\n",
              "      <td>1947</td>\n",
              "      <td>6</td>\n",
              "      <td>6</td>\n",
              "      <td>38387</td>\n",
              "      <td>55.9</td>\n",
              "      <td>72.1</td>\n",
              "      <td>17440</td>\n",
              "      <td>5660</td>\n",
              "      <td>1160.0</td>\n",
              "      <td>3189.0</td>\n",
              "      <td>55.9</td>\n",
              "      <td>1</td>\n",
              "      <td>0</td>\n",
              "      <td>0</td>\n",
              "    </tr>\n",
              "    <tr>\n",
              "      <th>1</th>\n",
              "      <td>Kobe Bryant</td>\n",
              "      <td>G</td>\n",
              "      <td>18</td>\n",
              "      <td>1</td>\n",
              "      <td>198</td>\n",
              "      <td>96</td>\n",
              "      <td>1978</td>\n",
              "      <td>5</td>\n",
              "      <td>1</td>\n",
              "      <td>33643</td>\n",
              "      <td>44.7</td>\n",
              "      <td>83.7</td>\n",
              "      <td>7047</td>\n",
              "      <td>6306</td>\n",
              "      <td>1944.0</td>\n",
              "      <td>640.0</td>\n",
              "      <td>48.2</td>\n",
              "      <td>0</td>\n",
              "      <td>0</td>\n",
              "      <td>1</td>\n",
              "    </tr>\n",
              "    <tr>\n",
              "      <th>2</th>\n",
              "      <td>LeBron James</td>\n",
              "      <td>F</td>\n",
              "      <td>17</td>\n",
              "      <td>2</td>\n",
              "      <td>203</td>\n",
              "      <td>113</td>\n",
              "      <td>1984</td>\n",
              "      <td>4</td>\n",
              "      <td>4</td>\n",
              "      <td>38450</td>\n",
              "      <td>50.5</td>\n",
              "      <td>73.5</td>\n",
              "      <td>10606</td>\n",
              "      <td>10371</td>\n",
              "      <td>2180.0</td>\n",
              "      <td>1067.0</td>\n",
              "      <td>54.5</td>\n",
              "      <td>0</td>\n",
              "      <td>1</td>\n",
              "      <td>0</td>\n",
              "    </tr>\n",
              "    <tr>\n",
              "      <th>3</th>\n",
              "      <td>Tim Duncan</td>\n",
              "      <td>F</td>\n",
              "      <td>15</td>\n",
              "      <td>1</td>\n",
              "      <td>211</td>\n",
              "      <td>113</td>\n",
              "      <td>1976</td>\n",
              "      <td>5</td>\n",
              "      <td>2</td>\n",
              "      <td>26496</td>\n",
              "      <td>50.6</td>\n",
              "      <td>69.6</td>\n",
              "      <td>15091</td>\n",
              "      <td>4225</td>\n",
              "      <td>1025.0</td>\n",
              "      <td>3020.0</td>\n",
              "      <td>50.7</td>\n",
              "      <td>0</td>\n",
              "      <td>1</td>\n",
              "      <td>0</td>\n",
              "    </tr>\n",
              "    <tr>\n",
              "      <th>4</th>\n",
              "      <td>Kevin Garnett</td>\n",
              "      <td>F</td>\n",
              "      <td>15</td>\n",
              "      <td>1</td>\n",
              "      <td>211</td>\n",
              "      <td>108</td>\n",
              "      <td>1976</td>\n",
              "      <td>0</td>\n",
              "      <td>1</td>\n",
              "      <td>26071</td>\n",
              "      <td>49.7</td>\n",
              "      <td>78.9</td>\n",
              "      <td>14662</td>\n",
              "      <td>5445</td>\n",
              "      <td>1859.0</td>\n",
              "      <td>2037.0</td>\n",
              "      <td>50.1</td>\n",
              "      <td>0</td>\n",
              "      <td>1</td>\n",
              "      <td>0</td>\n",
              "    </tr>\n",
              "  </tbody>\n",
              "</table>\n",
              "</div>\n",
              "      <button class=\"colab-df-convert\" onclick=\"convertToInteractive('df-aff0a9da-ef25-4a02-b496-b6ba04eb0df1')\"\n",
              "              title=\"Convert this dataframe to an interactive table.\"\n",
              "              style=\"display:none;\">\n",
              "        \n",
              "  <svg xmlns=\"http://www.w3.org/2000/svg\" height=\"24px\"viewBox=\"0 0 24 24\"\n",
              "       width=\"24px\">\n",
              "    <path d=\"M0 0h24v24H0V0z\" fill=\"none\"/>\n",
              "    <path d=\"M18.56 5.44l.94 2.06.94-2.06 2.06-.94-2.06-.94-.94-2.06-.94 2.06-2.06.94zm-11 1L8.5 8.5l.94-2.06 2.06-.94-2.06-.94L8.5 2.5l-.94 2.06-2.06.94zm10 10l.94 2.06.94-2.06 2.06-.94-2.06-.94-.94-2.06-.94 2.06-2.06.94z\"/><path d=\"M17.41 7.96l-1.37-1.37c-.4-.4-.92-.59-1.43-.59-.52 0-1.04.2-1.43.59L10.3 9.45l-7.72 7.72c-.78.78-.78 2.05 0 2.83L4 21.41c.39.39.9.59 1.41.59.51 0 1.02-.2 1.41-.59l7.78-7.78 2.81-2.81c.8-.78.8-2.07 0-2.86zM5.41 20L4 18.59l7.72-7.72 1.47 1.35L5.41 20z\"/>\n",
              "  </svg>\n",
              "      </button>\n",
              "      \n",
              "  <style>\n",
              "    .colab-df-container {\n",
              "      display:flex;\n",
              "      flex-wrap:wrap;\n",
              "      gap: 12px;\n",
              "    }\n",
              "\n",
              "    .colab-df-convert {\n",
              "      background-color: #E8F0FE;\n",
              "      border: none;\n",
              "      border-radius: 50%;\n",
              "      cursor: pointer;\n",
              "      display: none;\n",
              "      fill: #1967D2;\n",
              "      height: 32px;\n",
              "      padding: 0 0 0 0;\n",
              "      width: 32px;\n",
              "    }\n",
              "\n",
              "    .colab-df-convert:hover {\n",
              "      background-color: #E2EBFA;\n",
              "      box-shadow: 0px 1px 2px rgba(60, 64, 67, 0.3), 0px 1px 3px 1px rgba(60, 64, 67, 0.15);\n",
              "      fill: #174EA6;\n",
              "    }\n",
              "\n",
              "    [theme=dark] .colab-df-convert {\n",
              "      background-color: #3B4455;\n",
              "      fill: #D2E3FC;\n",
              "    }\n",
              "\n",
              "    [theme=dark] .colab-df-convert:hover {\n",
              "      background-color: #434B5C;\n",
              "      box-shadow: 0px 1px 3px 1px rgba(0, 0, 0, 0.15);\n",
              "      filter: drop-shadow(0px 1px 2px rgba(0, 0, 0, 0.3));\n",
              "      fill: #FFFFFF;\n",
              "    }\n",
              "  </style>\n",
              "\n",
              "      <script>\n",
              "        const buttonEl =\n",
              "          document.querySelector('#df-aff0a9da-ef25-4a02-b496-b6ba04eb0df1 button.colab-df-convert');\n",
              "        buttonEl.style.display =\n",
              "          google.colab.kernel.accessAllowed ? 'block' : 'none';\n",
              "\n",
              "        async function convertToInteractive(key) {\n",
              "          const element = document.querySelector('#df-aff0a9da-ef25-4a02-b496-b6ba04eb0df1');\n",
              "          const dataTable =\n",
              "            await google.colab.kernel.invokeFunction('convertToInteractive',\n",
              "                                                     [key], {});\n",
              "          if (!dataTable) return;\n",
              "\n",
              "          const docLinkHtml = 'Like what you see? Visit the ' +\n",
              "            '<a target=\"_blank\" href=https://colab.research.google.com/notebooks/data_table.ipynb>data table notebook</a>'\n",
              "            + ' to learn more about interactive tables.';\n",
              "          element.innerHTML = '';\n",
              "          dataTable['output_type'] = 'display_data';\n",
              "          await google.colab.output.renderOutput(dataTable, element);\n",
              "          const docLink = document.createElement('div');\n",
              "          docLink.innerHTML = docLinkHtml;\n",
              "          element.appendChild(docLink);\n",
              "        }\n",
              "      </script>\n",
              "    </div>\n",
              "  </div>\n",
              "  "
            ]
          },
          "metadata": {},
          "execution_count": 145
        }
      ]
    },
    {
      "cell_type": "code",
      "source": [
        "df1 = df1.drop(columns=['In_Hall_of_fame', 'born','height', 'weight'])\n"
      ],
      "metadata": {
        "id": "1rZueYIGC2AS"
      },
      "execution_count": null,
      "outputs": []
    },
    {
      "cell_type": "code",
      "source": [
        "df1 = pd.concat([df1, dummy_variable_2], axis=1)"
      ],
      "metadata": {
        "id": "GguynU2eIW18"
      },
      "execution_count": null,
      "outputs": []
    },
    {
      "cell_type": "code",
      "source": [
        "df1.rename(columns = {'Not in the HOF/ retired':'Retired/Not HOF', 'All_star_selections':'All Star Selections',\n",
        "                             'In the Hall of fame':'HOF'}, inplace = True)"
      ],
      "metadata": {
        "id": "Z_uz1F-BHYAD"
      },
      "execution_count": null,
      "outputs": []
    },
    {
      "cell_type": "code",
      "source": [
        "display(df1)"
      ],
      "metadata": {
        "colab": {
          "base_uri": "https://localhost:8080/",
          "height": 696
        },
        "id": "PAMyEiV6IWzH",
        "outputId": "899033f8-3c93-4285-bf6f-9601a722cf10"
      },
      "execution_count": null,
      "outputs": [
        {
          "output_type": "display_data",
          "data": {
            "text/plain": [
              "                    Name position  All Star Selections  Championships  MVP  \\\n",
              "0    Kareem Abdul-Jabbar        C                   19              6    6   \n",
              "1            Kobe Bryant        G                   18              5    1   \n",
              "2           LeBron James        F                   17              4    4   \n",
              "3             Tim Duncan        F                   15              5    2   \n",
              "4          Kevin Garnett        F                   15              0    1   \n",
              "..                   ...      ...                  ...            ...  ...   \n",
              "432        Julius Randle        F                    1              0    0   \n",
              "433        Pascal Siakam        F                    1              1    0   \n",
              "434       DeAndre Jordan        C                    1              0    0   \n",
              "435          Brook Lopez        C                    1              1    0   \n",
              "436   Kristaps Porzingis        F                    1              0    0   \n",
              "\n",
              "       PTS   FG%   FT%    REB    AST     STL     BLK  EFG%  Center  Forward  \\\n",
              "0    38387  55.9  72.1  17440   5660  1160.0  3189.0  55.9       1        0   \n",
              "1    33643  44.7  83.7   7047   6306  1944.0   640.0  48.2       0        0   \n",
              "2    38450  50.5  73.5  10606  10371  2180.0  1067.0  54.5       0        1   \n",
              "3    26496  50.6  69.6  15091   4225  1025.0  3020.0  50.7       0        1   \n",
              "4    26071  49.7  78.9  14662   5445  1859.0  2037.0  50.1       0        1   \n",
              "..     ...   ...   ...    ...    ...     ...     ...   ...     ...      ...   \n",
              "432  10884  47.1  74.5   5510   2119   408.0   254.0  50.9       0        1   \n",
              "433   7674  48.7  77.3   2950   1577   419.0   302.0  52.6       0        1   \n",
              "434   9102  67.5  47.5  10310    963   545.0  1524.0  67.5       1        0   \n",
              "435  15212  49.5  79.5   5829   1326   533.0  1682.0  52.8       1        0   \n",
              "436   7628  45.0  82.6   3122    680   281.0   719.0  51.0       0        1   \n",
              "\n",
              "     Guard  Retired/Not HOF  HOF  Active player  \n",
              "0        0                0    1              0  \n",
              "1        1                0    1              0  \n",
              "2        0                0    0              1  \n",
              "3        0                0    1              0  \n",
              "4        0                0    1              0  \n",
              "..     ...              ...  ...            ...  \n",
              "432      0                0    0              1  \n",
              "433      0                0    0              1  \n",
              "434      0                0    0              1  \n",
              "435      0                0    0              1  \n",
              "436      0                0    0              1  \n",
              "\n",
              "[437 rows x 19 columns]"
            ],
            "text/html": [
              "\n",
              "  <div id=\"df-103d1106-e057-4905-bb56-c1d2d6aaa63b\">\n",
              "    <div class=\"colab-df-container\">\n",
              "      <div>\n",
              "<style scoped>\n",
              "    .dataframe tbody tr th:only-of-type {\n",
              "        vertical-align: middle;\n",
              "    }\n",
              "\n",
              "    .dataframe tbody tr th {\n",
              "        vertical-align: top;\n",
              "    }\n",
              "\n",
              "    .dataframe thead th {\n",
              "        text-align: right;\n",
              "    }\n",
              "</style>\n",
              "<table border=\"1\" class=\"dataframe\">\n",
              "  <thead>\n",
              "    <tr style=\"text-align: right;\">\n",
              "      <th></th>\n",
              "      <th>Name</th>\n",
              "      <th>position</th>\n",
              "      <th>All Star Selections</th>\n",
              "      <th>Championships</th>\n",
              "      <th>MVP</th>\n",
              "      <th>PTS</th>\n",
              "      <th>FG%</th>\n",
              "      <th>FT%</th>\n",
              "      <th>REB</th>\n",
              "      <th>AST</th>\n",
              "      <th>STL</th>\n",
              "      <th>BLK</th>\n",
              "      <th>EFG%</th>\n",
              "      <th>Center</th>\n",
              "      <th>Forward</th>\n",
              "      <th>Guard</th>\n",
              "      <th>Retired/Not HOF</th>\n",
              "      <th>HOF</th>\n",
              "      <th>Active player</th>\n",
              "    </tr>\n",
              "  </thead>\n",
              "  <tbody>\n",
              "    <tr>\n",
              "      <th>0</th>\n",
              "      <td>Kareem Abdul-Jabbar</td>\n",
              "      <td>C</td>\n",
              "      <td>19</td>\n",
              "      <td>6</td>\n",
              "      <td>6</td>\n",
              "      <td>38387</td>\n",
              "      <td>55.9</td>\n",
              "      <td>72.1</td>\n",
              "      <td>17440</td>\n",
              "      <td>5660</td>\n",
              "      <td>1160.0</td>\n",
              "      <td>3189.0</td>\n",
              "      <td>55.9</td>\n",
              "      <td>1</td>\n",
              "      <td>0</td>\n",
              "      <td>0</td>\n",
              "      <td>0</td>\n",
              "      <td>1</td>\n",
              "      <td>0</td>\n",
              "    </tr>\n",
              "    <tr>\n",
              "      <th>1</th>\n",
              "      <td>Kobe Bryant</td>\n",
              "      <td>G</td>\n",
              "      <td>18</td>\n",
              "      <td>5</td>\n",
              "      <td>1</td>\n",
              "      <td>33643</td>\n",
              "      <td>44.7</td>\n",
              "      <td>83.7</td>\n",
              "      <td>7047</td>\n",
              "      <td>6306</td>\n",
              "      <td>1944.0</td>\n",
              "      <td>640.0</td>\n",
              "      <td>48.2</td>\n",
              "      <td>0</td>\n",
              "      <td>0</td>\n",
              "      <td>1</td>\n",
              "      <td>0</td>\n",
              "      <td>1</td>\n",
              "      <td>0</td>\n",
              "    </tr>\n",
              "    <tr>\n",
              "      <th>2</th>\n",
              "      <td>LeBron James</td>\n",
              "      <td>F</td>\n",
              "      <td>17</td>\n",
              "      <td>4</td>\n",
              "      <td>4</td>\n",
              "      <td>38450</td>\n",
              "      <td>50.5</td>\n",
              "      <td>73.5</td>\n",
              "      <td>10606</td>\n",
              "      <td>10371</td>\n",
              "      <td>2180.0</td>\n",
              "      <td>1067.0</td>\n",
              "      <td>54.5</td>\n",
              "      <td>0</td>\n",
              "      <td>1</td>\n",
              "      <td>0</td>\n",
              "      <td>0</td>\n",
              "      <td>0</td>\n",
              "      <td>1</td>\n",
              "    </tr>\n",
              "    <tr>\n",
              "      <th>3</th>\n",
              "      <td>Tim Duncan</td>\n",
              "      <td>F</td>\n",
              "      <td>15</td>\n",
              "      <td>5</td>\n",
              "      <td>2</td>\n",
              "      <td>26496</td>\n",
              "      <td>50.6</td>\n",
              "      <td>69.6</td>\n",
              "      <td>15091</td>\n",
              "      <td>4225</td>\n",
              "      <td>1025.0</td>\n",
              "      <td>3020.0</td>\n",
              "      <td>50.7</td>\n",
              "      <td>0</td>\n",
              "      <td>1</td>\n",
              "      <td>0</td>\n",
              "      <td>0</td>\n",
              "      <td>1</td>\n",
              "      <td>0</td>\n",
              "    </tr>\n",
              "    <tr>\n",
              "      <th>4</th>\n",
              "      <td>Kevin Garnett</td>\n",
              "      <td>F</td>\n",
              "      <td>15</td>\n",
              "      <td>0</td>\n",
              "      <td>1</td>\n",
              "      <td>26071</td>\n",
              "      <td>49.7</td>\n",
              "      <td>78.9</td>\n",
              "      <td>14662</td>\n",
              "      <td>5445</td>\n",
              "      <td>1859.0</td>\n",
              "      <td>2037.0</td>\n",
              "      <td>50.1</td>\n",
              "      <td>0</td>\n",
              "      <td>1</td>\n",
              "      <td>0</td>\n",
              "      <td>0</td>\n",
              "      <td>1</td>\n",
              "      <td>0</td>\n",
              "    </tr>\n",
              "    <tr>\n",
              "      <th>...</th>\n",
              "      <td>...</td>\n",
              "      <td>...</td>\n",
              "      <td>...</td>\n",
              "      <td>...</td>\n",
              "      <td>...</td>\n",
              "      <td>...</td>\n",
              "      <td>...</td>\n",
              "      <td>...</td>\n",
              "      <td>...</td>\n",
              "      <td>...</td>\n",
              "      <td>...</td>\n",
              "      <td>...</td>\n",
              "      <td>...</td>\n",
              "      <td>...</td>\n",
              "      <td>...</td>\n",
              "      <td>...</td>\n",
              "      <td>...</td>\n",
              "      <td>...</td>\n",
              "      <td>...</td>\n",
              "    </tr>\n",
              "    <tr>\n",
              "      <th>432</th>\n",
              "      <td>Julius Randle</td>\n",
              "      <td>F</td>\n",
              "      <td>1</td>\n",
              "      <td>0</td>\n",
              "      <td>0</td>\n",
              "      <td>10884</td>\n",
              "      <td>47.1</td>\n",
              "      <td>74.5</td>\n",
              "      <td>5510</td>\n",
              "      <td>2119</td>\n",
              "      <td>408.0</td>\n",
              "      <td>254.0</td>\n",
              "      <td>50.9</td>\n",
              "      <td>0</td>\n",
              "      <td>1</td>\n",
              "      <td>0</td>\n",
              "      <td>0</td>\n",
              "      <td>0</td>\n",
              "      <td>1</td>\n",
              "    </tr>\n",
              "    <tr>\n",
              "      <th>433</th>\n",
              "      <td>Pascal Siakam</td>\n",
              "      <td>F</td>\n",
              "      <td>1</td>\n",
              "      <td>1</td>\n",
              "      <td>0</td>\n",
              "      <td>7674</td>\n",
              "      <td>48.7</td>\n",
              "      <td>77.3</td>\n",
              "      <td>2950</td>\n",
              "      <td>1577</td>\n",
              "      <td>419.0</td>\n",
              "      <td>302.0</td>\n",
              "      <td>52.6</td>\n",
              "      <td>0</td>\n",
              "      <td>1</td>\n",
              "      <td>0</td>\n",
              "      <td>0</td>\n",
              "      <td>0</td>\n",
              "      <td>1</td>\n",
              "    </tr>\n",
              "    <tr>\n",
              "      <th>434</th>\n",
              "      <td>DeAndre Jordan</td>\n",
              "      <td>C</td>\n",
              "      <td>1</td>\n",
              "      <td>0</td>\n",
              "      <td>0</td>\n",
              "      <td>9102</td>\n",
              "      <td>67.5</td>\n",
              "      <td>47.5</td>\n",
              "      <td>10310</td>\n",
              "      <td>963</td>\n",
              "      <td>545.0</td>\n",
              "      <td>1524.0</td>\n",
              "      <td>67.5</td>\n",
              "      <td>1</td>\n",
              "      <td>0</td>\n",
              "      <td>0</td>\n",
              "      <td>0</td>\n",
              "      <td>0</td>\n",
              "      <td>1</td>\n",
              "    </tr>\n",
              "    <tr>\n",
              "      <th>435</th>\n",
              "      <td>Brook Lopez</td>\n",
              "      <td>C</td>\n",
              "      <td>1</td>\n",
              "      <td>1</td>\n",
              "      <td>0</td>\n",
              "      <td>15212</td>\n",
              "      <td>49.5</td>\n",
              "      <td>79.5</td>\n",
              "      <td>5829</td>\n",
              "      <td>1326</td>\n",
              "      <td>533.0</td>\n",
              "      <td>1682.0</td>\n",
              "      <td>52.8</td>\n",
              "      <td>1</td>\n",
              "      <td>0</td>\n",
              "      <td>0</td>\n",
              "      <td>0</td>\n",
              "      <td>0</td>\n",
              "      <td>1</td>\n",
              "    </tr>\n",
              "    <tr>\n",
              "      <th>436</th>\n",
              "      <td>Kristaps Porzingis</td>\n",
              "      <td>F</td>\n",
              "      <td>1</td>\n",
              "      <td>0</td>\n",
              "      <td>0</td>\n",
              "      <td>7628</td>\n",
              "      <td>45.0</td>\n",
              "      <td>82.6</td>\n",
              "      <td>3122</td>\n",
              "      <td>680</td>\n",
              "      <td>281.0</td>\n",
              "      <td>719.0</td>\n",
              "      <td>51.0</td>\n",
              "      <td>0</td>\n",
              "      <td>1</td>\n",
              "      <td>0</td>\n",
              "      <td>0</td>\n",
              "      <td>0</td>\n",
              "      <td>1</td>\n",
              "    </tr>\n",
              "  </tbody>\n",
              "</table>\n",
              "<p>437 rows × 19 columns</p>\n",
              "</div>\n",
              "      <button class=\"colab-df-convert\" onclick=\"convertToInteractive('df-103d1106-e057-4905-bb56-c1d2d6aaa63b')\"\n",
              "              title=\"Convert this dataframe to an interactive table.\"\n",
              "              style=\"display:none;\">\n",
              "        \n",
              "  <svg xmlns=\"http://www.w3.org/2000/svg\" height=\"24px\"viewBox=\"0 0 24 24\"\n",
              "       width=\"24px\">\n",
              "    <path d=\"M0 0h24v24H0V0z\" fill=\"none\"/>\n",
              "    <path d=\"M18.56 5.44l.94 2.06.94-2.06 2.06-.94-2.06-.94-.94-2.06-.94 2.06-2.06.94zm-11 1L8.5 8.5l.94-2.06 2.06-.94-2.06-.94L8.5 2.5l-.94 2.06-2.06.94zm10 10l.94 2.06.94-2.06 2.06-.94-2.06-.94-.94-2.06-.94 2.06-2.06.94z\"/><path d=\"M17.41 7.96l-1.37-1.37c-.4-.4-.92-.59-1.43-.59-.52 0-1.04.2-1.43.59L10.3 9.45l-7.72 7.72c-.78.78-.78 2.05 0 2.83L4 21.41c.39.39.9.59 1.41.59.51 0 1.02-.2 1.41-.59l7.78-7.78 2.81-2.81c.8-.78.8-2.07 0-2.86zM5.41 20L4 18.59l7.72-7.72 1.47 1.35L5.41 20z\"/>\n",
              "  </svg>\n",
              "      </button>\n",
              "      \n",
              "  <style>\n",
              "    .colab-df-container {\n",
              "      display:flex;\n",
              "      flex-wrap:wrap;\n",
              "      gap: 12px;\n",
              "    }\n",
              "\n",
              "    .colab-df-convert {\n",
              "      background-color: #E8F0FE;\n",
              "      border: none;\n",
              "      border-radius: 50%;\n",
              "      cursor: pointer;\n",
              "      display: none;\n",
              "      fill: #1967D2;\n",
              "      height: 32px;\n",
              "      padding: 0 0 0 0;\n",
              "      width: 32px;\n",
              "    }\n",
              "\n",
              "    .colab-df-convert:hover {\n",
              "      background-color: #E2EBFA;\n",
              "      box-shadow: 0px 1px 2px rgba(60, 64, 67, 0.3), 0px 1px 3px 1px rgba(60, 64, 67, 0.15);\n",
              "      fill: #174EA6;\n",
              "    }\n",
              "\n",
              "    [theme=dark] .colab-df-convert {\n",
              "      background-color: #3B4455;\n",
              "      fill: #D2E3FC;\n",
              "    }\n",
              "\n",
              "    [theme=dark] .colab-df-convert:hover {\n",
              "      background-color: #434B5C;\n",
              "      box-shadow: 0px 1px 3px 1px rgba(0, 0, 0, 0.15);\n",
              "      filter: drop-shadow(0px 1px 2px rgba(0, 0, 0, 0.3));\n",
              "      fill: #FFFFFF;\n",
              "    }\n",
              "  </style>\n",
              "\n",
              "      <script>\n",
              "        const buttonEl =\n",
              "          document.querySelector('#df-103d1106-e057-4905-bb56-c1d2d6aaa63b button.colab-df-convert');\n",
              "        buttonEl.style.display =\n",
              "          google.colab.kernel.accessAllowed ? 'block' : 'none';\n",
              "\n",
              "        async function convertToInteractive(key) {\n",
              "          const element = document.querySelector('#df-103d1106-e057-4905-bb56-c1d2d6aaa63b');\n",
              "          const dataTable =\n",
              "            await google.colab.kernel.invokeFunction('convertToInteractive',\n",
              "                                                     [key], {});\n",
              "          if (!dataTable) return;\n",
              "\n",
              "          const docLinkHtml = 'Like what you see? Visit the ' +\n",
              "            '<a target=\"_blank\" href=https://colab.research.google.com/notebooks/data_table.ipynb>data table notebook</a>'\n",
              "            + ' to learn more about interactive tables.';\n",
              "          element.innerHTML = '';\n",
              "          dataTable['output_type'] = 'display_data';\n",
              "          await google.colab.output.renderOutput(dataTable, element);\n",
              "          const docLink = document.createElement('div');\n",
              "          docLink.innerHTML = docLinkHtml;\n",
              "          element.appendChild(docLink);\n",
              "        }\n",
              "      </script>\n",
              "    </div>\n",
              "  </div>\n",
              "  "
            ]
          },
          "metadata": {}
        }
      ]
    },
    {
      "cell_type": "code",
      "source": [
        "df1.describe()"
      ],
      "metadata": {
        "colab": {
          "base_uri": "https://localhost:8080/",
          "height": 381
        },
        "id": "vuaOYvcC6ksn",
        "outputId": "9d936956-e596-4ed0-fe54-62bc3682a8a1"
      },
      "execution_count": null,
      "outputs": [
        {
          "output_type": "execute_result",
          "data": {
            "text/plain": [
              "       All Star Selections  Championships         MVP           PTS  \\\n",
              "count           437.000000     437.000000  437.000000    437.000000   \n",
              "mean              3.924485       0.805492    0.157895  13275.917620   \n",
              "std               3.493279       1.473362    0.670658   6315.415726   \n",
              "min               1.000000       0.000000    0.000000    370.000000   \n",
              "25%               1.000000       0.000000    0.000000   9041.000000   \n",
              "50%               3.000000       0.000000    0.000000  12417.000000   \n",
              "75%               5.000000       1.000000    0.000000  16297.000000   \n",
              "max              19.000000      11.000000    6.000000  38450.000000   \n",
              "\n",
              "              FG%         FT%           REB           AST          STL  \\\n",
              "count  437.000000  437.000000    437.000000    437.000000   343.000000   \n",
              "mean    46.155149   76.639817   5286.059497   2874.354691   892.058309   \n",
              "std      5.447733    7.452219   3492.666536   2063.950429   524.312735   \n",
              "min      4.800000   41.400000    228.000000     51.000000    12.000000   \n",
              "25%     43.700000   73.000000   2784.000000   1437.000000   521.500000   \n",
              "50%     46.200000   77.400000   4387.000000   2341.000000   804.000000   \n",
              "75%     49.300000   81.700000   6891.000000   3754.000000  1161.000000   \n",
              "max     67.500000   90.900000  23924.000000  15806.000000  3265.000000   \n",
              "\n",
              "               BLK        EFG%      Center     Forward       Guard  \\\n",
              "count   342.000000  319.000000  437.000000  437.000000  437.000000   \n",
              "mean    574.383041   50.225392    0.173913    0.411899    0.414188   \n",
              "std     643.643949    3.833707    0.379469    0.492741    0.493146   \n",
              "min       2.000000   38.800000    0.000000    0.000000    0.000000   \n",
              "25%     163.250000   47.950000    0.000000    0.000000    0.000000   \n",
              "50%     315.500000   50.000000    0.000000    0.000000    0.000000   \n",
              "75%     751.500000   51.950000    0.000000    1.000000    1.000000   \n",
              "max    3830.000000   76.100000    1.000000    1.000000    1.000000   \n",
              "\n",
              "       Retired/Not HOF         HOF  Active player  \n",
              "count       437.000000  437.000000     437.000000  \n",
              "mean          0.558352    0.295195       0.146453  \n",
              "std           0.497152    0.456653       0.353965  \n",
              "min           0.000000    0.000000       0.000000  \n",
              "25%           0.000000    0.000000       0.000000  \n",
              "50%           1.000000    0.000000       0.000000  \n",
              "75%           1.000000    1.000000       0.000000  \n",
              "max           1.000000    1.000000       1.000000  "
            ],
            "text/html": [
              "\n",
              "  <div id=\"df-ed72d8d6-de02-471e-89b2-9f6d8cf775a3\">\n",
              "    <div class=\"colab-df-container\">\n",
              "      <div>\n",
              "<style scoped>\n",
              "    .dataframe tbody tr th:only-of-type {\n",
              "        vertical-align: middle;\n",
              "    }\n",
              "\n",
              "    .dataframe tbody tr th {\n",
              "        vertical-align: top;\n",
              "    }\n",
              "\n",
              "    .dataframe thead th {\n",
              "        text-align: right;\n",
              "    }\n",
              "</style>\n",
              "<table border=\"1\" class=\"dataframe\">\n",
              "  <thead>\n",
              "    <tr style=\"text-align: right;\">\n",
              "      <th></th>\n",
              "      <th>All Star Selections</th>\n",
              "      <th>Championships</th>\n",
              "      <th>MVP</th>\n",
              "      <th>PTS</th>\n",
              "      <th>FG%</th>\n",
              "      <th>FT%</th>\n",
              "      <th>REB</th>\n",
              "      <th>AST</th>\n",
              "      <th>STL</th>\n",
              "      <th>BLK</th>\n",
              "      <th>EFG%</th>\n",
              "      <th>Center</th>\n",
              "      <th>Forward</th>\n",
              "      <th>Guard</th>\n",
              "      <th>Retired/Not HOF</th>\n",
              "      <th>HOF</th>\n",
              "      <th>Active player</th>\n",
              "    </tr>\n",
              "  </thead>\n",
              "  <tbody>\n",
              "    <tr>\n",
              "      <th>count</th>\n",
              "      <td>437.000000</td>\n",
              "      <td>437.000000</td>\n",
              "      <td>437.000000</td>\n",
              "      <td>437.000000</td>\n",
              "      <td>437.000000</td>\n",
              "      <td>437.000000</td>\n",
              "      <td>437.000000</td>\n",
              "      <td>437.000000</td>\n",
              "      <td>343.000000</td>\n",
              "      <td>342.000000</td>\n",
              "      <td>319.000000</td>\n",
              "      <td>437.000000</td>\n",
              "      <td>437.000000</td>\n",
              "      <td>437.000000</td>\n",
              "      <td>437.000000</td>\n",
              "      <td>437.000000</td>\n",
              "      <td>437.000000</td>\n",
              "    </tr>\n",
              "    <tr>\n",
              "      <th>mean</th>\n",
              "      <td>3.924485</td>\n",
              "      <td>0.805492</td>\n",
              "      <td>0.157895</td>\n",
              "      <td>13275.917620</td>\n",
              "      <td>46.155149</td>\n",
              "      <td>76.639817</td>\n",
              "      <td>5286.059497</td>\n",
              "      <td>2874.354691</td>\n",
              "      <td>892.058309</td>\n",
              "      <td>574.383041</td>\n",
              "      <td>50.225392</td>\n",
              "      <td>0.173913</td>\n",
              "      <td>0.411899</td>\n",
              "      <td>0.414188</td>\n",
              "      <td>0.558352</td>\n",
              "      <td>0.295195</td>\n",
              "      <td>0.146453</td>\n",
              "    </tr>\n",
              "    <tr>\n",
              "      <th>std</th>\n",
              "      <td>3.493279</td>\n",
              "      <td>1.473362</td>\n",
              "      <td>0.670658</td>\n",
              "      <td>6315.415726</td>\n",
              "      <td>5.447733</td>\n",
              "      <td>7.452219</td>\n",
              "      <td>3492.666536</td>\n",
              "      <td>2063.950429</td>\n",
              "      <td>524.312735</td>\n",
              "      <td>643.643949</td>\n",
              "      <td>3.833707</td>\n",
              "      <td>0.379469</td>\n",
              "      <td>0.492741</td>\n",
              "      <td>0.493146</td>\n",
              "      <td>0.497152</td>\n",
              "      <td>0.456653</td>\n",
              "      <td>0.353965</td>\n",
              "    </tr>\n",
              "    <tr>\n",
              "      <th>min</th>\n",
              "      <td>1.000000</td>\n",
              "      <td>0.000000</td>\n",
              "      <td>0.000000</td>\n",
              "      <td>370.000000</td>\n",
              "      <td>4.800000</td>\n",
              "      <td>41.400000</td>\n",
              "      <td>228.000000</td>\n",
              "      <td>51.000000</td>\n",
              "      <td>12.000000</td>\n",
              "      <td>2.000000</td>\n",
              "      <td>38.800000</td>\n",
              "      <td>0.000000</td>\n",
              "      <td>0.000000</td>\n",
              "      <td>0.000000</td>\n",
              "      <td>0.000000</td>\n",
              "      <td>0.000000</td>\n",
              "      <td>0.000000</td>\n",
              "    </tr>\n",
              "    <tr>\n",
              "      <th>25%</th>\n",
              "      <td>1.000000</td>\n",
              "      <td>0.000000</td>\n",
              "      <td>0.000000</td>\n",
              "      <td>9041.000000</td>\n",
              "      <td>43.700000</td>\n",
              "      <td>73.000000</td>\n",
              "      <td>2784.000000</td>\n",
              "      <td>1437.000000</td>\n",
              "      <td>521.500000</td>\n",
              "      <td>163.250000</td>\n",
              "      <td>47.950000</td>\n",
              "      <td>0.000000</td>\n",
              "      <td>0.000000</td>\n",
              "      <td>0.000000</td>\n",
              "      <td>0.000000</td>\n",
              "      <td>0.000000</td>\n",
              "      <td>0.000000</td>\n",
              "    </tr>\n",
              "    <tr>\n",
              "      <th>50%</th>\n",
              "      <td>3.000000</td>\n",
              "      <td>0.000000</td>\n",
              "      <td>0.000000</td>\n",
              "      <td>12417.000000</td>\n",
              "      <td>46.200000</td>\n",
              "      <td>77.400000</td>\n",
              "      <td>4387.000000</td>\n",
              "      <td>2341.000000</td>\n",
              "      <td>804.000000</td>\n",
              "      <td>315.500000</td>\n",
              "      <td>50.000000</td>\n",
              "      <td>0.000000</td>\n",
              "      <td>0.000000</td>\n",
              "      <td>0.000000</td>\n",
              "      <td>1.000000</td>\n",
              "      <td>0.000000</td>\n",
              "      <td>0.000000</td>\n",
              "    </tr>\n",
              "    <tr>\n",
              "      <th>75%</th>\n",
              "      <td>5.000000</td>\n",
              "      <td>1.000000</td>\n",
              "      <td>0.000000</td>\n",
              "      <td>16297.000000</td>\n",
              "      <td>49.300000</td>\n",
              "      <td>81.700000</td>\n",
              "      <td>6891.000000</td>\n",
              "      <td>3754.000000</td>\n",
              "      <td>1161.000000</td>\n",
              "      <td>751.500000</td>\n",
              "      <td>51.950000</td>\n",
              "      <td>0.000000</td>\n",
              "      <td>1.000000</td>\n",
              "      <td>1.000000</td>\n",
              "      <td>1.000000</td>\n",
              "      <td>1.000000</td>\n",
              "      <td>0.000000</td>\n",
              "    </tr>\n",
              "    <tr>\n",
              "      <th>max</th>\n",
              "      <td>19.000000</td>\n",
              "      <td>11.000000</td>\n",
              "      <td>6.000000</td>\n",
              "      <td>38450.000000</td>\n",
              "      <td>67.500000</td>\n",
              "      <td>90.900000</td>\n",
              "      <td>23924.000000</td>\n",
              "      <td>15806.000000</td>\n",
              "      <td>3265.000000</td>\n",
              "      <td>3830.000000</td>\n",
              "      <td>76.100000</td>\n",
              "      <td>1.000000</td>\n",
              "      <td>1.000000</td>\n",
              "      <td>1.000000</td>\n",
              "      <td>1.000000</td>\n",
              "      <td>1.000000</td>\n",
              "      <td>1.000000</td>\n",
              "    </tr>\n",
              "  </tbody>\n",
              "</table>\n",
              "</div>\n",
              "      <button class=\"colab-df-convert\" onclick=\"convertToInteractive('df-ed72d8d6-de02-471e-89b2-9f6d8cf775a3')\"\n",
              "              title=\"Convert this dataframe to an interactive table.\"\n",
              "              style=\"display:none;\">\n",
              "        \n",
              "  <svg xmlns=\"http://www.w3.org/2000/svg\" height=\"24px\"viewBox=\"0 0 24 24\"\n",
              "       width=\"24px\">\n",
              "    <path d=\"M0 0h24v24H0V0z\" fill=\"none\"/>\n",
              "    <path d=\"M18.56 5.44l.94 2.06.94-2.06 2.06-.94-2.06-.94-.94-2.06-.94 2.06-2.06.94zm-11 1L8.5 8.5l.94-2.06 2.06-.94-2.06-.94L8.5 2.5l-.94 2.06-2.06.94zm10 10l.94 2.06.94-2.06 2.06-.94-2.06-.94-.94-2.06-.94 2.06-2.06.94z\"/><path d=\"M17.41 7.96l-1.37-1.37c-.4-.4-.92-.59-1.43-.59-.52 0-1.04.2-1.43.59L10.3 9.45l-7.72 7.72c-.78.78-.78 2.05 0 2.83L4 21.41c.39.39.9.59 1.41.59.51 0 1.02-.2 1.41-.59l7.78-7.78 2.81-2.81c.8-.78.8-2.07 0-2.86zM5.41 20L4 18.59l7.72-7.72 1.47 1.35L5.41 20z\"/>\n",
              "  </svg>\n",
              "      </button>\n",
              "      \n",
              "  <style>\n",
              "    .colab-df-container {\n",
              "      display:flex;\n",
              "      flex-wrap:wrap;\n",
              "      gap: 12px;\n",
              "    }\n",
              "\n",
              "    .colab-df-convert {\n",
              "      background-color: #E8F0FE;\n",
              "      border: none;\n",
              "      border-radius: 50%;\n",
              "      cursor: pointer;\n",
              "      display: none;\n",
              "      fill: #1967D2;\n",
              "      height: 32px;\n",
              "      padding: 0 0 0 0;\n",
              "      width: 32px;\n",
              "    }\n",
              "\n",
              "    .colab-df-convert:hover {\n",
              "      background-color: #E2EBFA;\n",
              "      box-shadow: 0px 1px 2px rgba(60, 64, 67, 0.3), 0px 1px 3px 1px rgba(60, 64, 67, 0.15);\n",
              "      fill: #174EA6;\n",
              "    }\n",
              "\n",
              "    [theme=dark] .colab-df-convert {\n",
              "      background-color: #3B4455;\n",
              "      fill: #D2E3FC;\n",
              "    }\n",
              "\n",
              "    [theme=dark] .colab-df-convert:hover {\n",
              "      background-color: #434B5C;\n",
              "      box-shadow: 0px 1px 3px 1px rgba(0, 0, 0, 0.15);\n",
              "      filter: drop-shadow(0px 1px 2px rgba(0, 0, 0, 0.3));\n",
              "      fill: #FFFFFF;\n",
              "    }\n",
              "  </style>\n",
              "\n",
              "      <script>\n",
              "        const buttonEl =\n",
              "          document.querySelector('#df-ed72d8d6-de02-471e-89b2-9f6d8cf775a3 button.colab-df-convert');\n",
              "        buttonEl.style.display =\n",
              "          google.colab.kernel.accessAllowed ? 'block' : 'none';\n",
              "\n",
              "        async function convertToInteractive(key) {\n",
              "          const element = document.querySelector('#df-ed72d8d6-de02-471e-89b2-9f6d8cf775a3');\n",
              "          const dataTable =\n",
              "            await google.colab.kernel.invokeFunction('convertToInteractive',\n",
              "                                                     [key], {});\n",
              "          if (!dataTable) return;\n",
              "\n",
              "          const docLinkHtml = 'Like what you see? Visit the ' +\n",
              "            '<a target=\"_blank\" href=https://colab.research.google.com/notebooks/data_table.ipynb>data table notebook</a>'\n",
              "            + ' to learn more about interactive tables.';\n",
              "          element.innerHTML = '';\n",
              "          dataTable['output_type'] = 'display_data';\n",
              "          await google.colab.output.renderOutput(dataTable, element);\n",
              "          const docLink = document.createElement('div');\n",
              "          docLink.innerHTML = docLinkHtml;\n",
              "          element.appendChild(docLink);\n",
              "        }\n",
              "      </script>\n",
              "    </div>\n",
              "  </div>\n",
              "  "
            ]
          },
          "metadata": {},
          "execution_count": 15
        }
      ]
    },
    {
      "cell_type": "code",
      "source": [
        "fig, ax = plt.subplots(figsize=(15,10))\n",
        "sns.heatmap(df1[[ 'position', 'All Star Selections',\n",
        "       'Championships', 'MVP', 'PTS', 'FG%', 'FT%', 'REB', 'AST', 'STL', 'BLK',\n",
        "       'EFG%', 'Center', 'Forward', 'Guard', 'Retired/Not HOF',\n",
        "       'HOF', 'Active player'\n",
        "                ]].corr(),annot=True)"
      ],
      "metadata": {
        "colab": {
          "base_uri": "https://localhost:8080/",
          "height": 693
        },
        "id": "WcM5YaWNg8IS",
        "outputId": "a40732ed-f315-4ecf-886d-238149183578"
      },
      "execution_count": null,
      "outputs": [
        {
          "output_type": "execute_result",
          "data": {
            "text/plain": [
              "<AxesSubplot:>"
            ]
          },
          "metadata": {},
          "execution_count": 16
        },
        {
          "output_type": "display_data",
          "data": {
            "text/plain": [
              "<Figure size 1080x720 with 2 Axes>"
            ],
            "image/png": "[encoded data removed]"
          },
          "metadata": {
            "needs_background": "light"
          }
        }
      ]
    },
    {
      "cell_type": "code",
      "source": [
        "plt.figure(figsize=(8, 5))\n",
        "sns.boxplot(x='HOF', y='All Star Selections',\n",
        "    data=df1, hue='HOF', palette='deep')\n",
        "plt.xlabel(\"HOF Inductions\")\n",
        "plt.ylabel(\"All Star Selections\")\n",
        "plt.title(\"All Star Selections vs HOF\")\n",
        "plt.show()\n",
        "plt.close()"
      ],
      "metadata": {
        "colab": {
          "base_uri": "https://localhost:8080/",
          "height": 350
        },
        "id": "-YqOyiMJ7NIB",
        "outputId": "7f5d9ea0-2596-4718-a47f-16a308e16075"
      },
      "execution_count": null,
      "outputs": [
        {
          "output_type": "display_data",
          "data": {
            "text/plain": [
              "<Figure size 576x360 with 1 Axes>"
            ],
            "image/png": "[encoded data removed]"
          },
          "metadata": {
            "needs_background": "light"
          }
        }
      ]
    },
    {
      "cell_type": "markdown",
      "source": [
        "First we look at the left side where there are players with 9 or more There are six NBA players who made six or more All-Star teams but have not been inducted into the Hall of Fame despite being eligible. Larry Foust has the most as his 8 All-Star appearances were not enough to get him inducted to the Hall of Fame. Five players are tied with 6 All-Star appearances but no Hall of Fame induction including Shawn Kemp, Jermaine O’Neal, and Amar’e Stoudemire. All Star selection is not only based on statistics, but is also based on popularity, as is the case with Yao Ming who made 8 All star teams and who is also in the HOF. Shawn Kemp was on fire in the league for his first 6 seasons, but fizzled out towards the end of his career, so longevity also plays a big factor towards HOF induction."
      ],
      "metadata": {
        "id": "f307brQ5ONA5"
      }
    },
    {
      "cell_type": "code",
      "source": [
        "px.scatter(\n",
        "        df1, x=\"Name\", y=\"MVP\", color='HOF',\n",
        "        hover_data=['Name'])"
      ],
      "metadata": {
        "colab": {
          "base_uri": "https://localhost:8080/",
          "height": 542
        },
        "id": "L5_sdjDiGblN",
        "outputId": "4bb68b01-039e-4417-a931-af55bd884652"
      },
      "execution_count": null,
      "outputs": [
        {
          "output_type": "display_data",
          "data": {
            "text/html": [
              "<html>\n",
              "<head><meta charset=\"utf-8\" /></head>\n",
              "<body>\n",
              "    <div>            <script src=\"https://cdnjs.cloudflare.com/ajax/libs/mathjax/2.7.5/MathJax.js?config=TeX-AMS-MML_SVG\"></script><script type=\"text/javascript\">if (window.MathJax) {MathJax.Hub.Config({SVG: {font: \"STIX-Web\"}});}</script>                <script type=\"text/javascript\">window.PlotlyConfig = {MathJaxConfig: 'local'};</script>\n",
              "        <script src=\"https://cdn.plot.ly/plotly-2.8.3.min.js\"></script>                <div id=\"05363beb-e94b-46e4-a058-b4f60e6114be\" class=\"plotly-graph-div\" style=\"height:525px; width:100%;\"></div>            <script type=\"text/javascript\">                                    window.PLOTLYENV=window.PLOTLYENV || {};                                    if (document.getElementById(\"05363beb-e94b-46e4-a058-b4f60e6114be\")) {                    Plotly.newPlot(                        \"05363beb-e94b-46e4-a058-b4f60e6114be\",                        [{\"hovertemplate\":\"HOF=1<br>Name=%{x}<br>MVP=%{y}<extra></extra>\",\"legendgroup\":\"1\",\"marker\":{\"color\":\"#636efa\",\"symbol\":\"circle\"},\"mode\":\"markers\",\"name\":\"1\",\"orientation\":\"v\",\"showlegend\":true,\"x\":[\"Kareem Abdul-Jabbar\",\"Kobe Bryant\",\"Tim Duncan\",\"Kevin Garnett\",\"Shaquille O'Neal\",\"Jerry West\",\"Michael Jordan\",\"Karl Malone\",\"Bob Cousy\",\"John Havlicek\",\"Wilt Chamberlain\",\"Isiah Thomas\",\"Oscar Robertson\",\"Magic Johnson\",\"Dolph Schayes\",\"Larry Bird\",\"Elvin Hayes\",\"Moses Malone\",\"Bill Russell\",\"Hakeem Olajuwon\",\"Allen Iverson\",\"Elgin Baylor\",\"Charles Barkley\",\"Julius Erving\",\"Bob Pettit\",\"Chris Bosh\",\"Patrick Ewing\",\"John Stockton\",\"Hal Greer\",\"Paul Arizin\",\"Jason Kidd\",\"Clyde Drexler\",\"Paul Pierce\",\"Ray Allen\",\"David Robinson\",\"Lenny Wilkens\",\"Gary Payton\",\"George Gervin\",\"Dominique Wilkins\",\"Robert Parish\",\"Yao Ming\",\"Bill Sharman\",\"Steve Nash\",\"Dave DeBusschere\",\"Rick Barry\",\"Alex English\",\"Dave Cowens\",\"Bob Lanier\",\"Dikembe Mutombo\",\"Jo Jo White\",\"Slater Martin\",\"Dick McGuire\",\"Dave Bing\",\"Walt Frazier\",\"Harry Gallatin\",\"Chet Walker\",\"Grant Hill\",\"Jerry Lucas\",\"Ed Macauley\",\"Tracy McGrady\",\"Scottie Pippen\",\"Willis Reed\",\"James Worthy\",\"Kevin McHale\",\"Alonzo Mourning\",\"Jack Sikma\",\"Nate Thurmond\",\"Tiny Archibald\",\"Joe Dumars\",\"Richie Guerin\",\"Adrian Dantley\",\"Mitch Richmond\",\"George Yardley\",\"Jack Twyman\",\"Tom Heinsohn\",\"Bailey Howell\",\"Vern Mikkelsen\",\"Neil Johnston\",\"Artis Gilmore\",\"Bobby Wanzer\",\"Gail Goodrich\",\"Andy Phillip\",\"Sidney Moncrief\",\"Cliff Hagan\",\"Dennis Johnson\",\"Sam Jones\",\"Paul Westphal\",\"Carl Braun\",\"Pete Maravich\",\"Tom Gola\",\"Gus Johnson\",\"Chris Mullin\",\"Reggie Miller\",\"Wes Unseld\",\"Wayne Embry\",\"Bob McAdoo\",\"Chris Webber\",\"Guy Rodgers\",\"Maurice Cheeks\",\"Bob Davies\",\"Earl Monroe\",\"Jim Pollard\",\"David Thompson\",\"Billy Cunningham\",\"Bob Dandridge\",\"Bernard King\",\"Connie Hawkins\",\"Spencer Haywood\",\"Bobby Jones\",\"Clyde Lovellette\",\"Arnie Risen\",\"Ben Wallace\",\"George Mikan\",\"Walt Bellamy\",\"Ralph Sampson\",\"Charlie Scott\",\"Jamaal Wilkes\",\"Maurice Stokes\",\"George McGinnis\",\"Joe Fulks\",\"Dennis Rodman\",\"Zelmo Beaty\",\"Bill Walton\",\"Calvin Murphy\",\"Bill Bradley\",\"Don Barksdale\",\"Nat Clifton\",\"Dan Issel\",\"Vlade Divac\"],\"xaxis\":\"x\",\"y\":[6,1,2,1,1,0,5,2,1,0,4,0,1,3,0,3,0,3,5,1,1,0,1,4,2,0,0,0,0,0,0,0,0,0,1,0,0,0,0,0,0,0,2,0,0,0,1,0,0,0,0,0,0,0,0,0,0,0,0,0,0,1,0,0,0,0,0,0,0,0,0,0,0,0,0,0,0,0,1,0,0,0,0,0,0,0,0,0,0,0,0,0,0,0,0,0,0,0,0,0,0,0,0,0,0,0,0,0,0,0,0,0,0,0,0,0,0,0,0,0,0,0,1,0,0,0,0,0,0],\"yaxis\":\"y\",\"type\":\"scatter\"},{\"hovertemplate\":\"HOF=0<br>Name=%{x}<br>MVP=%{y}<extra></extra>\",\"legendgroup\":\"0\",\"marker\":{\"color\":\"#EF553B\",\"symbol\":\"circle\"},\"mode\":\"markers\",\"name\":\"0\",\"orientation\":\"v\",\"showlegend\":true,\"x\":[\"LeBron James\",\"Dirk Nowitzki\",\"Dwyane Wade\",\"Chris Paul\",\"Kevin Durant\",\"Carmelo Anthony\",\"Russell Westbrook\",\"James Harden\",\"Vince Carter\",\"Larry Foust\",\"Anthony Davis\",\"Dwight Howard\",\"Joe Johnson\",\"Stephen Curry\",\"Kyrie Irving\",\"Paul George\",\"LaMarcus Aldridge\",\"Larry Costello\",\"Tony Parker\",\"Lou Hudson\",\"Walter Davis\",\"Shawn Kemp\",\"Amar'e Stoudemire\",\"Jermaine O'Neal\",\"Pau Gasol\",\"Kyle Lowry\",\"Damian Lillard\",\"Blake Griffin\",\"Tim Hardaway\",\"Gene Shue\",\"Chauncey Billups\",\"Don Ohl\",\"Marques Johnson\",\"Rudy LaRusso\",\"Rudy Tomjanovich\",\"Brad Daugherty\",\"John Wall\",\"Jimmy Butler\",\"Kawhi Leonard\",\"Klay Thompson\",\"Al Horford\",\"Kevin Love\",\"Giannis Antetokounmpo\",\"Mark Price\",\"Otis Birdsong\",\"Dick Garmaker\",\"Alvin Robertson\",\"Johnny Green\",\"Micheal Ray Richardson\",\"Latrell Sprewell\",\"Rolando Blackman\",\"Doug Collins\",\"Mel Hutchins\",\"Willie Naulls\",\"Anfernee Hardaway\",\"Shawn Marion\",\"Sidney Wicks\",\"Maurice Lucas\",\"Tom Chambers\",\"Rasheed Wallace\",\"Vin Baker\",\"Bill Laimbeer\",\"Rajon Rondo\",\"DeMar DeRozan\",\"Paul Millsap\",\"Kemba Walker\",\"DeMarcus Cousins\",\"Joel Embiid\",\"Paul Seymour\",\"Norm Van Lier\",\"Gilbert Arenas\",\"Phil Chenier\",\"Steve Francis\",\"Deron Williams\",\"Jeff Mullins\",\"Antoine Walker\",\"Dick Van Arsdale\",\"Tom Van Arsdale\",\"Mark Aguirre\",\"Bill Bridges\",\"Richard Hamilton\",\"Dan Majerle\",\"Brandon Roy\",\"Terry Dischinger\",\"Glen Rice\",\"Kevin Johnson\",\"Bob Kauffman\",\"Bob Love\",\"Dan Roundfield\",\"Buck Williams\",\"Red Kerr\",\"Detlef Schrempf\",\"Peja Stojakovic\",\"Eddie Jones\",\"Larry Nance\",\"Derrick Rose\",\"Bradley Beal\",\"Draymond Green\",\"Nikola Jokic\",\"Ben Simmons\",\"Marc Gasol\",\"Fred Scolari\",\"Terrell Brandon\",\"Frankie Brian\",\"Archie Clark\",\"Jack George\",\"Stephon Marbury\",\"Norm Nixon\",\"Gus Williams\",\"Baron Davis\",\"Dike Eddleman\",\"Larry Johnson\",\"Fat Lever\",\"Terry Porter\",\"Frank Selvy\",\"Randy Smith\",\"Andrew Toney\",\"Jimmy Walker\",\"Leo Barnhorst\",\"Hot Rod Hundley\",\"Jeff Malone\",\"Geoff Petrie\",\"Phil Smith\",\"Brian Winters\",\"Joe Caldwell\",\"Don Kojis\",\"Jerry Sloan\",\"John Drew\",\"Manu Ginobili\",\"Allan Houston\",\"Rashard Lewis\",\"Jim Paxson\",\"Jerry Stackhouse\",\"Kelly Tripucka\",\"Caron Butler\",\"Michael Finley\",\"John Johnson\",\"David Lee\",\"Jack Marin\",\"Glenn Robinson\",\"Truck Robinson\",\"Paul Silas\",\"Reggie Theus\",\"Scott Wedman\",\"Elton Brand\",\"Sean Elliott\",\"Antawn Jamison\",\"Eddie Johnson\",\"Kiki Vandeweghe\",\"Carlos Boozer\",\"Terry Cummings\",\"Luol Deng\",\"Larry Kenon\",\"Zach Randolph\",\"Red Rocha\",\"Kenny Sears\",\"David West\",\"Danny Manning\",\"Jeff Ruland\",\"Brad Miller\",\"Joakim Noah\",\"Kevin Duckworth\",\"Walter Dukes\",\"Roy Hibbert\",\"Zydrunas Ilgauskas\",\"Donovan Mitchell\",\"Isaiah Thomas\",\"Victor Oladipo\",\"Devin Booker\",\"Luka Doncic\",\"Khris Middleton\",\"Jayson Tatum\",\"Andre Drummond\",\"Domantas Sabonis\",\"Karl-Anthony Towns\",\"Nikola Vucevic\",\"Rudy Gobert\",\"Michael Adams\",\"Ralph Beard\",\"Dana Barros\",\"Bill Gabor\",\"Kenny Anderson\",\"Mookie Blaylock\",\"Rickey Green\",\"Jameer Nelson\",\"Mark Jackson\",\"Flynn Robinson\",\"Adrian Smith\",\"Don Sunderlage\",\"Nick Van Exel\",\"World B. Free\",\"Jim King\",\"Richie Regan\",\"Paul Walther\",\"Kevin Willis\",\"Max Zaslofsky\",\"Butch Beard\",\"Fred Brown\",\"Sam Cassell\",\"Sleepy Floyd\",\"Devin Harris\",\"Hersey Hawkins\",\"Lionel Hollins\",\"Jeff Hornacek\",\"Jim Price\",\"John Starks\",\"Danny Ainge\",\"Dick Barnett\",\"Don Buse\",\"Austin Carr\",\"Eddie Miles\",\"Chuck Noble\",\"Ricky Pierce\",\"Doc Rivers\",\"Vince Boryla\",\"Jon McGlocklin\",\"Campy Russell\",\"Cazzie Russell\",\"Fred Schaus\",\"Cedric Ceballos\",\"Billy Knight\",\"Tom Meschery\",\"Jack Molinas\",\"Calvin Natt\",\"Michael Redd\",\"Wally Szczerbiak\",\"B.J. Armstrong\",\"Jack Coleman\",\"Dale Ellis\",\"Alex Groza\",\"Bob Harrison\",\"Walt Hazzard\",\"Josh Howard\",\"Kyle Korver\",\"Reggie Lewis\",\"Anthony Mason\",\"Xavier McDaniel\",\"Mike Mitchell\",\"Steve Mix\",\"Curtis Rowe\",\"Woody Sauldsberry\",\"Lee Shaffer\",\"Steve Smith\",\"Gerald Wallace\",\"Metta World Peace\",\"Bob Boozer\",\"Len Chappell\",\"A.C. Green\",\"Steve Johnson\",\"Jamal Mashburn\",\"Charles Oakley\",\"Lonnie Shelton\",\"Kermit Washington\",\"Mo Williams\",\"Shareef Abdur-Rahim\",\"Alvan Adams\",\"John Block\",\"Antonio Davis\",\"Danny Granger\",\"Tyrone Hill\",\"Juwan Howard\",\"Luke Jackson\",\"Andrei Kirilenko\",\"Kenyon Martin\",\"Antonio McDyess\",\"Clifford Robinson\",\"Bob Rule\",\"Otis Thorpe\",\"Jayson Williams\",\"Derrick Coleman\",\"Chris Gatling\",\"Horace Grant\",\"Tom Gugliotta\",\"Darrall Imhoff\",\"Sam Lacey\",\"Clyde Lee\",\"Theo Ratliff\",\"Dale Davis\",\"Ray Felix\",\"Christian Laettner\",\"Jamaal Magloire\",\"Mehmet Okur\",\"Andrew Bynum\",\"Joe Barry Carroll\",\"Chris Kaman\",\"Bill Cartwright\",\"Tyson Chandler\",\"James Donaldson\",\"Mark Eaton\",\"Rik Smits\",\"Mike Conley\",\"Trae Young\",\"D'Angelo Russell\",\"Jeff Teague\",\"Goran Dragic\",\"Jaylen Brown\",\"Jrue Holiday\",\"Zach LaVine\",\"Andre Iguodala\",\"Zion Williamson\",\"Gordon Hayward\",\"Bam Adebayo\",\"Brandon Ingram\",\"Julius Randle\",\"Pascal Siakam\",\"DeAndre Jordan\",\"Brook Lopez\",\"Kristaps Porzingis\"],\"xaxis\":\"x\",\"y\":[4,1,0,0,1,0,1,1,0,0,0,0,0,2,0,0,0,0,0,0,0,0,0,0,0,0,0,0,0,0,0,0,0,0,0,0,0,0,0,0,0,0,2,0,0,0,0,0,0,0,0,0,0,0,0,0,0,0,0,0,0,0,0,0,0,0,0,0,0,0,0,0,0,0,0,0,0,0,0,0,0,0,0,0,0,0,0,0,0,0,0,0,0,0,0,1,0,0,2,0,0,0,0,0,0,0,0,0,0,0,0,0,0,0,0,0,0,0,0,0,0,0,0,0,0,0,0,0,0,0,0,0,0,0,0,0,0,0,0,0,0,0,0,0,0,0,0,0,0,0,0,0,0,0,0,0,0,0,0,0,0,0,0,0,0,0,0,0,0,0,0,0,0,0,0,0,0,0,0,0,0,0,0,0,0,0,0,0,0,0,0,0,0,0,0,0,0,0,0,0,0,0,0,0,0,0,0,0,0,0,0,0,0,0,0,0,0,0,0,0,0,0,0,0,0,0,0,0,0,0,0,0,0,0,0,0,0,0,0,0,0,0,0,0,0,0,0,0,0,0,0,0,0,0,0,0,0,0,0,0,0,0,0,0,0,0,0,0,0,0,0,0,0,0,0,0,0,0,0,0,0,0,0,0,0,0,0,0,0,0,0,0,0,0,0,0,0,0,0,0,0,0,0,0,0,0,0,0],\"yaxis\":\"y\",\"type\":\"scatter\"}],                        {\"template\":{\"data\":{\"bar\":[{\"error_x\":{\"color\":\"#2a3f5f\"},\"error_y\":{\"color\":\"#2a3f5f\"},\"marker\":{\"line\":{\"color\":\"#E5ECF6\",\"width\":0.5},\"pattern\":{\"fillmode\":\"overlay\",\"size\":10,\"solidity\":0.2}},\"type\":\"bar\"}],\"barpolar\":[{\"marker\":{\"line\":{\"color\":\"#E5ECF6\",\"width\":0.5},\"pattern\":{\"fillmode\":\"overlay\",\"size\":10,\"solidity\":0.2}},\"type\":\"barpolar\"}],\"carpet\":[{\"aaxis\":{\"endlinecolor\":\"#2a3f5f\",\"gridcolor\":\"white\",\"linecolor\":\"white\",\"minorgridcolor\":\"white\",\"startlinecolor\":\"#2a3f5f\"},\"baxis\":{\"endlinecolor\":\"#2a3f5f\",\"gridcolor\":\"white\",\"linecolor\":\"white\",\"minorgridcolor\":\"white\",\"startlinecolor\":\"#2a3f5f\"},\"type\":\"carpet\"}],\"choropleth\":[{\"colorbar\":{\"outlinewidth\":0,\"ticks\":\"\"},\"type\":\"choropleth\"}],\"contour\":[{\"colorbar\":{\"outlinewidth\":0,\"ticks\":\"\"},\"colorscale\":[[0.0,\"#0d0887\"],[0.1111111111111111,\"#46039f\"],[0.2222222222222222,\"#7201a8\"],[0.3333333333333333,\"#9c179e\"],[0.4444444444444444,\"#bd3786\"],[0.5555555555555556,\"#d8576b\"],[0.6666666666666666,\"#ed7953\"],[0.7777777777777778,\"#fb9f3a\"],[0.8888888888888888,\"#fdca26\"],[1.0,\"#f0f921\"]],\"type\":\"contour\"}],\"contourcarpet\":[{\"colorbar\":{\"outlinewidth\":0,\"ticks\":\"\"},\"type\":\"contourcarpet\"}],\"heatmap\":[{\"colorbar\":{\"outlinewidth\":0,\"ticks\":\"\"},\"colorscale\":[[0.0,\"#0d0887\"],[0.1111111111111111,\"#46039f\"],[0.2222222222222222,\"#7201a8\"],[0.3333333333333333,\"#9c179e\"],[0.4444444444444444,\"#bd3786\"],[0.5555555555555556,\"#d8576b\"],[0.6666666666666666,\"#ed7953\"],[0.7777777777777778,\"#fb9f3a\"],[0.8888888888888888,\"#fdca26\"],[1.0,\"#f0f921\"]],\"type\":\"heatmap\"}],\"heatmapgl\":[{\"colorbar\":{\"outlinewidth\":0,\"ticks\":\"\"},\"colorscale\":[[0.0,\"#0d0887\"],[0.1111111111111111,\"#46039f\"],[0.2222222222222222,\"#7201a8\"],[0.3333333333333333,\"#9c179e\"],[0.4444444444444444,\"#bd3786\"],[0.5555555555555556,\"#d8576b\"],[0.6666666666666666,\"#ed7953\"],[0.7777777777777778,\"#fb9f3a\"],[0.8888888888888888,\"#fdca26\"],[1.0,\"#f0f921\"]],\"type\":\"heatmapgl\"}],\"histogram\":[{\"marker\":{\"pattern\":{\"fillmode\":\"overlay\",\"size\":10,\"solidity\":0.2}},\"type\":\"histogram\"}],\"histogram2d\":[{\"colorbar\":{\"outlinewidth\":0,\"ticks\":\"\"},\"colorscale\":[[0.0,\"#0d0887\"],[0.1111111111111111,\"#46039f\"],[0.2222222222222222,\"#7201a8\"],[0.3333333333333333,\"#9c179e\"],[0.4444444444444444,\"#bd3786\"],[0.5555555555555556,\"#d8576b\"],[0.6666666666666666,\"#ed7953\"],[0.7777777777777778,\"#fb9f3a\"],[0.8888888888888888,\"#fdca26\"],[1.0,\"#f0f921\"]],\"type\":\"histogram2d\"}],\"histogram2dcontour\":[{\"colorbar\":{\"outlinewidth\":0,\"ticks\":\"\"},\"colorscale\":[[0.0,\"#0d0887\"],[0.1111111111111111,\"#46039f\"],[0.2222222222222222,\"#7201a8\"],[0.3333333333333333,\"#9c179e\"],[0.4444444444444444,\"#bd3786\"],[0.5555555555555556,\"#d8576b\"],[0.6666666666666666,\"#ed7953\"],[0.7777777777777778,\"#fb9f3a\"],[0.8888888888888888,\"#fdca26\"],[1.0,\"#f0f921\"]],\"type\":\"histogram2dcontour\"}],\"mesh3d\":[{\"colorbar\":{\"outlinewidth\":0,\"ticks\":\"\"},\"type\":\"mesh3d\"}],\"parcoords\":[{\"line\":{\"colorbar\":{\"outlinewidth\":0,\"ticks\":\"\"}},\"type\":\"parcoords\"}],\"pie\":[{\"automargin\":true,\"type\":\"pie\"}],\"scatter\":[{\"marker\":{\"colorbar\":{\"outlinewidth\":0,\"ticks\":\"\"}},\"type\":\"scatter\"}],\"scatter3d\":[{\"line\":{\"colorbar\":{\"outlinewidth\":0,\"ticks\":\"\"}},\"marker\":{\"colorbar\":{\"outlinewidth\":0,\"ticks\":\"\"}},\"type\":\"scatter3d\"}],\"scattercarpet\":[{\"marker\":{\"colorbar\":{\"outlinewidth\":0,\"ticks\":\"\"}},\"type\":\"scattercarpet\"}],\"scattergeo\":[{\"marker\":{\"colorbar\":{\"outlinewidth\":0,\"ticks\":\"\"}},\"type\":\"scattergeo\"}],\"scattergl\":[{\"marker\":{\"colorbar\":{\"outlinewidth\":0,\"ticks\":\"\"}},\"type\":\"scattergl\"}],\"scattermapbox\":[{\"marker\":{\"colorbar\":{\"outlinewidth\":0,\"ticks\":\"\"}},\"type\":\"scattermapbox\"}],\"scatterpolar\":[{\"marker\":{\"colorbar\":{\"outlinewidth\":0,\"ticks\":\"\"}},\"type\":\"scatterpolar\"}],\"scatterpolargl\":[{\"marker\":{\"colorbar\":{\"outlinewidth\":0,\"ticks\":\"\"}},\"type\":\"scatterpolargl\"}],\"scatterternary\":[{\"marker\":{\"colorbar\":{\"outlinewidth\":0,\"ticks\":\"\"}},\"type\":\"scatterternary\"}],\"surface\":[{\"colorbar\":{\"outlinewidth\":0,\"ticks\":\"\"},\"colorscale\":[[0.0,\"#0d0887\"],[0.1111111111111111,\"#46039f\"],[0.2222222222222222,\"#7201a8\"],[0.3333333333333333,\"#9c179e\"],[0.4444444444444444,\"#bd3786\"],[0.5555555555555556,\"#d8576b\"],[0.6666666666666666,\"#ed7953\"],[0.7777777777777778,\"#fb9f3a\"],[0.8888888888888888,\"#fdca26\"],[1.0,\"#f0f921\"]],\"type\":\"surface\"}],\"table\":[{\"cells\":{\"fill\":{\"color\":\"#EBF0F8\"},\"line\":{\"color\":\"white\"}},\"header\":{\"fill\":{\"color\":\"#C8D4E3\"},\"line\":{\"color\":\"white\"}},\"type\":\"table\"}]},\"layout\":{\"annotationdefaults\":{\"arrowcolor\":\"#2a3f5f\",\"arrowhead\":0,\"arrowwidth\":1},\"autotypenumbers\":\"strict\",\"coloraxis\":{\"colorbar\":{\"outlinewidth\":0,\"ticks\":\"\"}},\"colorscale\":{\"diverging\":[[0,\"#8e0152\"],[0.1,\"#c51b7d\"],[0.2,\"#de77ae\"],[0.3,\"#f1b6da\"],[0.4,\"#fde0ef\"],[0.5,\"#f7f7f7\"],[0.6,\"#e6f5d0\"],[0.7,\"#b8e186\"],[0.8,\"#7fbc41\"],[0.9,\"#4d9221\"],[1,\"#276419\"]],\"sequential\":[[0.0,\"#0d0887\"],[0.1111111111111111,\"#46039f\"],[0.2222222222222222,\"#7201a8\"],[0.3333333333333333,\"#9c179e\"],[0.4444444444444444,\"#bd3786\"],[0.5555555555555556,\"#d8576b\"],[0.6666666666666666,\"#ed7953\"],[0.7777777777777778,\"#fb9f3a\"],[0.8888888888888888,\"#fdca26\"],[1.0,\"#f0f921\"]],\"sequentialminus\":[[0.0,\"#0d0887\"],[0.1111111111111111,\"#46039f\"],[0.2222222222222222,\"#7201a8\"],[0.3333333333333333,\"#9c179e\"],[0.4444444444444444,\"#bd3786\"],[0.5555555555555556,\"#d8576b\"],[0.6666666666666666,\"#ed7953\"],[0.7777777777777778,\"#fb9f3a\"],[0.8888888888888888,\"#fdca26\"],[1.0,\"#f0f921\"]]},\"colorway\":[\"#636efa\",\"#EF553B\",\"#00cc96\",\"#ab63fa\",\"#FFA15A\",\"#19d3f3\",\"#FF6692\",\"#B6E880\",\"#FF97FF\",\"#FECB52\"],\"font\":{\"color\":\"#2a3f5f\"},\"geo\":{\"bgcolor\":\"white\",\"lakecolor\":\"white\",\"landcolor\":\"#E5ECF6\",\"showlakes\":true,\"showland\":true,\"subunitcolor\":\"white\"},\"hoverlabel\":{\"align\":\"left\"},\"hovermode\":\"closest\",\"mapbox\":{\"style\":\"light\"},\"paper_bgcolor\":\"white\",\"plot_bgcolor\":\"#E5ECF6\",\"polar\":{\"angularaxis\":{\"gridcolor\":\"white\",\"linecolor\":\"white\",\"ticks\":\"\"},\"bgcolor\":\"#E5ECF6\",\"radialaxis\":{\"gridcolor\":\"white\",\"linecolor\":\"white\",\"ticks\":\"\"}},\"scene\":{\"xaxis\":{\"backgroundcolor\":\"#E5ECF6\",\"gridcolor\":\"white\",\"gridwidth\":2,\"linecolor\":\"white\",\"showbackground\":true,\"ticks\":\"\",\"zerolinecolor\":\"white\"},\"yaxis\":{\"backgroundcolor\":\"#E5ECF6\",\"gridcolor\":\"white\",\"gridwidth\":2,\"linecolor\":\"white\",\"showbackground\":true,\"ticks\":\"\",\"zerolinecolor\":\"white\"},\"zaxis\":{\"backgroundcolor\":\"#E5ECF6\",\"gridcolor\":\"white\",\"gridwidth\":2,\"linecolor\":\"white\",\"showbackground\":true,\"ticks\":\"\",\"zerolinecolor\":\"white\"}},\"shapedefaults\":{\"line\":{\"color\":\"#2a3f5f\"}},\"ternary\":{\"aaxis\":{\"gridcolor\":\"white\",\"linecolor\":\"white\",\"ticks\":\"\"},\"baxis\":{\"gridcolor\":\"white\",\"linecolor\":\"white\",\"ticks\":\"\"},\"bgcolor\":\"#E5ECF6\",\"caxis\":{\"gridcolor\":\"white\",\"linecolor\":\"white\",\"ticks\":\"\"}},\"title\":{\"x\":0.05},\"xaxis\":{\"automargin\":true,\"gridcolor\":\"white\",\"linecolor\":\"white\",\"ticks\":\"\",\"title\":{\"standoff\":15},\"zerolinecolor\":\"white\",\"zerolinewidth\":2},\"yaxis\":{\"automargin\":true,\"gridcolor\":\"white\",\"linecolor\":\"white\",\"ticks\":\"\",\"title\":{\"standoff\":15},\"zerolinecolor\":\"white\",\"zerolinewidth\":2}}},\"xaxis\":{\"anchor\":\"y\",\"domain\":[0.0,1.0],\"title\":{\"text\":\"Name\"}},\"yaxis\":{\"anchor\":\"x\",\"domain\":[0.0,1.0],\"title\":{\"text\":\"MVP\"}},\"legend\":{\"title\":{\"text\":\"HOF\"},\"tracegroupgap\":0},\"margin\":{\"t\":60}},                        {\"responsive\": true}                    ).then(function(){\n",
              "                            \n",
              "var gd = document.getElementById('05363beb-e94b-46e4-a058-b4f60e6114be');\n",
              "var x = new MutationObserver(function (mutations, observer) {{\n",
              "        var display = window.getComputedStyle(gd).display;\n",
              "        if (!display || display === 'none') {{\n",
              "            console.log([gd, 'removed!']);\n",
              "            Plotly.purge(gd);\n",
              "            observer.disconnect();\n",
              "        }}\n",
              "}});\n",
              "\n",
              "// Listen for the removal of the full notebook cells\n",
              "var notebookContainer = gd.closest('#notebook-container');\n",
              "if (notebookContainer) {{\n",
              "    x.observe(notebookContainer, {childList: true});\n",
              "}}\n",
              "\n",
              "// Listen for the clearing of the current output cell\n",
              "var outputEl = gd.closest('.output');\n",
              "if (outputEl) {{\n",
              "    x.observe(outputEl, {childList: true});\n",
              "}}\n",
              "\n",
              "                        })                };                            </script>        </div>\n",
              "</body>\n",
              "</html>"
            ]
          },
          "metadata": {}
        }
      ]
    },
    {
      "cell_type": "markdown",
      "source": [
        "This scatter plot is misleading as it seems you can win an MVP award but not make the HOF. Everyone so far in history who has won this award at least once has made it to the HOF, with the exception being Derrick Rose. The MVP award winners not in the HOF are still active players, or have not been retired for 5 years. LeBron James, Dirk Nowitski, Stephen Curry, and Kevin Durant, to name a few.  Derrick Rose was the youngest MVP award winner at 22 yrs of age, but after his 4th season, suffered a career threatening injury that he recovered from, but was never the same player again."
      ],
      "metadata": {
        "id": "8U8U2hb7dOI2"
      }
    },
    {
      "cell_type": "code",
      "source": [
        "px.scatter(\n",
        "        df1, x=\"Name\", y=\"Championships\", color='HOF')"
      ],
      "metadata": {
        "colab": {
          "base_uri": "https://localhost:8080/",
          "height": 542
        },
        "id": "xfO-HgzPICf2",
        "outputId": "1431221a-d05e-4641-9ce3-f0c3c415d6b9"
      },
      "execution_count": null,
      "outputs": [
        {
          "output_type": "display_data",
          "data": {
            "text/html": [
              "<html>\n",
              "<head><meta charset=\"utf-8\" /></head>\n",
              "<body>\n",
              "    <div>            <script src=\"https://cdnjs.cloudflare.com/ajax/libs/mathjax/2.7.5/MathJax.js?config=TeX-AMS-MML_SVG\"></script><script type=\"text/javascript\">if (window.MathJax) {MathJax.Hub.Config({SVG: {font: \"STIX-Web\"}});}</script>                <script type=\"text/javascript\">window.PlotlyConfig = {MathJaxConfig: 'local'};</script>\n",
              "        <script src=\"https://cdn.plot.ly/plotly-2.8.3.min.js\"></script>                <div id=\"d7503b82-e2a6-461a-a151-f339c2cd6c2e\" class=\"plotly-graph-div\" style=\"height:525px; width:100%;\"></div>            <script type=\"text/javascript\">                                    window.PLOTLYENV=window.PLOTLYENV || {};                                    if (document.getElementById(\"d7503b82-e2a6-461a-a151-f339c2cd6c2e\")) {                    Plotly.newPlot(                        \"d7503b82-e2a6-461a-a151-f339c2cd6c2e\",                        [{\"hovertemplate\":\"HOF=1<br>Name=%{x}<br>Championships=%{y}<extra></extra>\",\"legendgroup\":\"1\",\"marker\":{\"color\":\"#636efa\",\"symbol\":\"circle\"},\"mode\":\"markers\",\"name\":\"1\",\"orientation\":\"v\",\"showlegend\":true,\"x\":[\"Kareem Abdul-Jabbar\",\"Kobe Bryant\",\"Tim Duncan\",\"Kevin Garnett\",\"Shaquille O'Neal\",\"Jerry West\",\"Michael Jordan\",\"Karl Malone\",\"Bob Cousy\",\"John Havlicek\",\"Wilt Chamberlain\",\"Isiah Thomas\",\"Oscar Robertson\",\"Magic Johnson\",\"Dolph Schayes\",\"Larry Bird\",\"Elvin Hayes\",\"Moses Malone\",\"Bill Russell\",\"Hakeem Olajuwon\",\"Allen Iverson\",\"Elgin Baylor\",\"Charles Barkley\",\"Julius Erving\",\"Bob Pettit\",\"Chris Bosh\",\"Patrick Ewing\",\"John Stockton\",\"Hal Greer\",\"Paul Arizin\",\"Jason Kidd\",\"Clyde Drexler\",\"Paul Pierce\",\"Ray Allen\",\"David Robinson\",\"Lenny Wilkens\",\"Gary Payton\",\"George Gervin\",\"Dominique Wilkins\",\"Robert Parish\",\"Yao Ming\",\"Bill Sharman\",\"Steve Nash\",\"Dave DeBusschere\",\"Rick Barry\",\"Alex English\",\"Dave Cowens\",\"Bob Lanier\",\"Dikembe Mutombo\",\"Jo Jo White\",\"Slater Martin\",\"Dick McGuire\",\"Dave Bing\",\"Walt Frazier\",\"Harry Gallatin\",\"Chet Walker\",\"Grant Hill\",\"Jerry Lucas\",\"Ed Macauley\",\"Tracy McGrady\",\"Scottie Pippen\",\"Willis Reed\",\"James Worthy\",\"Kevin McHale\",\"Alonzo Mourning\",\"Jack Sikma\",\"Nate Thurmond\",\"Tiny Archibald\",\"Joe Dumars\",\"Richie Guerin\",\"Adrian Dantley\",\"Mitch Richmond\",\"George Yardley\",\"Jack Twyman\",\"Tom Heinsohn\",\"Bailey Howell\",\"Vern Mikkelsen\",\"Neil Johnston\",\"Artis Gilmore\",\"Bobby Wanzer\",\"Gail Goodrich\",\"Andy Phillip\",\"Sidney Moncrief\",\"Cliff Hagan\",\"Dennis Johnson\",\"Sam Jones\",\"Paul Westphal\",\"Carl Braun\",\"Pete Maravich\",\"Tom Gola\",\"Gus Johnson\",\"Chris Mullin\",\"Reggie Miller\",\"Wes Unseld\",\"Wayne Embry\",\"Bob McAdoo\",\"Chris Webber\",\"Guy Rodgers\",\"Maurice Cheeks\",\"Bob Davies\",\"Earl Monroe\",\"Jim Pollard\",\"David Thompson\",\"Billy Cunningham\",\"Bob Dandridge\",\"Bernard King\",\"Connie Hawkins\",\"Spencer Haywood\",\"Bobby Jones\",\"Clyde Lovellette\",\"Arnie Risen\",\"Ben Wallace\",\"George Mikan\",\"Walt Bellamy\",\"Ralph Sampson\",\"Charlie Scott\",\"Jamaal Wilkes\",\"Maurice Stokes\",\"George McGinnis\",\"Joe Fulks\",\"Dennis Rodman\",\"Zelmo Beaty\",\"Bill Walton\",\"Calvin Murphy\",\"Bill Bradley\",\"Don Barksdale\",\"Nat Clifton\",\"Dan Issel\",\"Vlade Divac\"],\"xaxis\":\"x\",\"y\":[6,5,5,0,4,1,6,0,6,8,2,2,1,5,1,3,1,1,11,2,0,0,0,3,1,2,0,0,1,1,1,1,1,2,2,0,1,0,0,4,0,4,0,2,1,0,2,0,0,2,5,0,0,2,0,1,0,1,1,0,6,2,3,3,1,1,0,1,2,0,0,1,0,0,8,2,4,1,1,1,1,1,0,1,3,10,1,1,0,1,1,0,0,1,1,2,0,0,1,1,1,5,0,1,2,0,1,1,1,3,2,1,5,0,0,1,4,0,2,1,5,1,2,0,2,0,0,1,0],\"yaxis\":\"y\",\"type\":\"scatter\"},{\"hovertemplate\":\"HOF=0<br>Name=%{x}<br>Championships=%{y}<extra></extra>\",\"legendgroup\":\"0\",\"marker\":{\"color\":\"#EF553B\",\"symbol\":\"circle\"},\"mode\":\"markers\",\"name\":\"0\",\"orientation\":\"v\",\"showlegend\":true,\"x\":[\"LeBron James\",\"Dirk Nowitzki\",\"Dwyane Wade\",\"Chris Paul\",\"Kevin Durant\",\"Carmelo Anthony\",\"Russell Westbrook\",\"James Harden\",\"Vince Carter\",\"Larry Foust\",\"Anthony Davis\",\"Dwight Howard\",\"Joe Johnson\",\"Stephen Curry\",\"Kyrie Irving\",\"Paul George\",\"LaMarcus Aldridge\",\"Larry Costello\",\"Tony Parker\",\"Lou Hudson\",\"Walter Davis\",\"Shawn Kemp\",\"Amar'e Stoudemire\",\"Jermaine O'Neal\",\"Pau Gasol\",\"Kyle Lowry\",\"Damian Lillard\",\"Blake Griffin\",\"Tim Hardaway\",\"Gene Shue\",\"Chauncey Billups\",\"Don Ohl\",\"Marques Johnson\",\"Rudy LaRusso\",\"Rudy Tomjanovich\",\"Brad Daugherty\",\"John Wall\",\"Jimmy Butler\",\"Kawhi Leonard\",\"Klay Thompson\",\"Al Horford\",\"Kevin Love\",\"Giannis Antetokounmpo\",\"Mark Price\",\"Otis Birdsong\",\"Dick Garmaker\",\"Alvin Robertson\",\"Johnny Green\",\"Micheal Ray Richardson\",\"Latrell Sprewell\",\"Rolando Blackman\",\"Doug Collins\",\"Mel Hutchins\",\"Willie Naulls\",\"Anfernee Hardaway\",\"Shawn Marion\",\"Sidney Wicks\",\"Maurice Lucas\",\"Tom Chambers\",\"Rasheed Wallace\",\"Vin Baker\",\"Bill Laimbeer\",\"Rajon Rondo\",\"DeMar DeRozan\",\"Paul Millsap\",\"Kemba Walker\",\"DeMarcus Cousins\",\"Joel Embiid\",\"Paul Seymour\",\"Norm Van Lier\",\"Gilbert Arenas\",\"Phil Chenier\",\"Steve Francis\",\"Deron Williams\",\"Jeff Mullins\",\"Antoine Walker\",\"Dick Van Arsdale\",\"Tom Van Arsdale\",\"Mark Aguirre\",\"Bill Bridges\",\"Richard Hamilton\",\"Dan Majerle\",\"Brandon Roy\",\"Terry Dischinger\",\"Glen Rice\",\"Kevin Johnson\",\"Bob Kauffman\",\"Bob Love\",\"Dan Roundfield\",\"Buck Williams\",\"Red Kerr\",\"Detlef Schrempf\",\"Peja Stojakovic\",\"Eddie Jones\",\"Larry Nance\",\"Derrick Rose\",\"Bradley Beal\",\"Draymond Green\",\"Nikola Jokic\",\"Ben Simmons\",\"Marc Gasol\",\"Fred Scolari\",\"Terrell Brandon\",\"Frankie Brian\",\"Archie Clark\",\"Jack George\",\"Stephon Marbury\",\"Norm Nixon\",\"Gus Williams\",\"Baron Davis\",\"Dike Eddleman\",\"Larry Johnson\",\"Fat Lever\",\"Terry Porter\",\"Frank Selvy\",\"Randy Smith\",\"Andrew Toney\",\"Jimmy Walker\",\"Leo Barnhorst\",\"Hot Rod Hundley\",\"Jeff Malone\",\"Geoff Petrie\",\"Phil Smith\",\"Brian Winters\",\"Joe Caldwell\",\"Don Kojis\",\"Jerry Sloan\",\"John Drew\",\"Manu Ginobili\",\"Allan Houston\",\"Rashard Lewis\",\"Jim Paxson\",\"Jerry Stackhouse\",\"Kelly Tripucka\",\"Caron Butler\",\"Michael Finley\",\"John Johnson\",\"David Lee\",\"Jack Marin\",\"Glenn Robinson\",\"Truck Robinson\",\"Paul Silas\",\"Reggie Theus\",\"Scott Wedman\",\"Elton Brand\",\"Sean Elliott\",\"Antawn Jamison\",\"Eddie Johnson\",\"Kiki Vandeweghe\",\"Carlos Boozer\",\"Terry Cummings\",\"Luol Deng\",\"Larry Kenon\",\"Zach Randolph\",\"Red Rocha\",\"Kenny Sears\",\"David West\",\"Danny Manning\",\"Jeff Ruland\",\"Brad Miller\",\"Joakim Noah\",\"Kevin Duckworth\",\"Walter Dukes\",\"Roy Hibbert\",\"Zydrunas Ilgauskas\",\"Donovan Mitchell\",\"Isaiah Thomas\",\"Victor Oladipo\",\"Devin Booker\",\"Luka Doncic\",\"Khris Middleton\",\"Jayson Tatum\",\"Andre Drummond\",\"Domantas Sabonis\",\"Karl-Anthony Towns\",\"Nikola Vucevic\",\"Rudy Gobert\",\"Michael Adams\",\"Ralph Beard\",\"Dana Barros\",\"Bill Gabor\",\"Kenny Anderson\",\"Mookie Blaylock\",\"Rickey Green\",\"Jameer Nelson\",\"Mark Jackson\",\"Flynn Robinson\",\"Adrian Smith\",\"Don Sunderlage\",\"Nick Van Exel\",\"World B. Free\",\"Jim King\",\"Richie Regan\",\"Paul Walther\",\"Kevin Willis\",\"Max Zaslofsky\",\"Butch Beard\",\"Fred Brown\",\"Sam Cassell\",\"Sleepy Floyd\",\"Devin Harris\",\"Hersey Hawkins\",\"Lionel Hollins\",\"Jeff Hornacek\",\"Jim Price\",\"John Starks\",\"Danny Ainge\",\"Dick Barnett\",\"Don Buse\",\"Austin Carr\",\"Eddie Miles\",\"Chuck Noble\",\"Ricky Pierce\",\"Doc Rivers\",\"Vince Boryla\",\"Jon McGlocklin\",\"Campy Russell\",\"Cazzie Russell\",\"Fred Schaus\",\"Cedric Ceballos\",\"Billy Knight\",\"Tom Meschery\",\"Jack Molinas\",\"Calvin Natt\",\"Michael Redd\",\"Wally Szczerbiak\",\"B.J. Armstrong\",\"Jack Coleman\",\"Dale Ellis\",\"Alex Groza\",\"Bob Harrison\",\"Walt Hazzard\",\"Josh Howard\",\"Kyle Korver\",\"Reggie Lewis\",\"Anthony Mason\",\"Xavier McDaniel\",\"Mike Mitchell\",\"Steve Mix\",\"Curtis Rowe\",\"Woody Sauldsberry\",\"Lee Shaffer\",\"Steve Smith\",\"Gerald Wallace\",\"Metta World Peace\",\"Bob Boozer\",\"Len Chappell\",\"A.C. Green\",\"Steve Johnson\",\"Jamal Mashburn\",\"Charles Oakley\",\"Lonnie Shelton\",\"Kermit Washington\",\"Mo Williams\",\"Shareef Abdur-Rahim\",\"Alvan Adams\",\"John Block\",\"Antonio Davis\",\"Danny Granger\",\"Tyrone Hill\",\"Juwan Howard\",\"Luke Jackson\",\"Andrei Kirilenko\",\"Kenyon Martin\",\"Antonio McDyess\",\"Clifford Robinson\",\"Bob Rule\",\"Otis Thorpe\",\"Jayson Williams\",\"Derrick Coleman\",\"Chris Gatling\",\"Horace Grant\",\"Tom Gugliotta\",\"Darrall Imhoff\",\"Sam Lacey\",\"Clyde Lee\",\"Theo Ratliff\",\"Dale Davis\",\"Ray Felix\",\"Christian Laettner\",\"Jamaal Magloire\",\"Mehmet Okur\",\"Andrew Bynum\",\"Joe Barry Carroll\",\"Chris Kaman\",\"Bill Cartwright\",\"Tyson Chandler\",\"James Donaldson\",\"Mark Eaton\",\"Rik Smits\",\"Mike Conley\",\"Trae Young\",\"D'Angelo Russell\",\"Jeff Teague\",\"Goran Dragic\",\"Jaylen Brown\",\"Jrue Holiday\",\"Zach LaVine\",\"Andre Iguodala\",\"Zion Williamson\",\"Gordon Hayward\",\"Bam Adebayo\",\"Brandon Ingram\",\"Julius Randle\",\"Pascal Siakam\",\"DeAndre Jordan\",\"Brook Lopez\",\"Kristaps Porzingis\"],\"xaxis\":\"x\",\"y\":[4,1,3,0,2,0,0,0,0,0,1,1,0,4,1,0,0,1,4,0,0,0,0,0,2,1,0,0,0,0,1,0,0,0,0,0,0,0,2,4,0,1,1,0,0,0,0,0,0,0,0,0,0,3,0,0,0,1,0,1,0,2,2,0,0,0,0,0,1,0,0,1,0,0,1,1,0,0,2,1,1,0,0,0,1,0,0,0,0,0,1,0,0,0,0,0,0,4,0,0,1,0,0,0,0,1,0,2,1,0,0,0,0,0,0,0,1,0,0,0,0,0,1,0,0,0,0,0,4,0,0,0,0,0,1,1,1,1,0,1,0,3,0,2,0,1,0,0,0,0,0,0,1,0,1,0,2,0,0,0,0,0,0,0,0,0,0,0,0,0,1,0,0,0,0,0,0,0,0,0,0,0,0,0,0,0,1,0,0,0,0,0,0,0,1,0,1,1,3,0,0,0,1,0,0,0,2,2,1,0,0,0,0,0,0,1,0,1,0,0,0,0,0,0,0,0,3,2,0,0,3,0,0,0,0,0,0,0,0,0,1,0,1,0,1,1,0,3,0,0,0,1,0,1,0,0,0,0,0,0,2,1,0,0,0,0,0,1,0,0,0,4,0,0,0,0,0,0,0,0,0,0,2,0,0,3,1,0,0,0,0,0,0,0,0,0,0,0,4,0,0,0,0,0,1,0,1,0],\"yaxis\":\"y\",\"type\":\"scatter\"}],                        {\"template\":{\"data\":{\"bar\":[{\"error_x\":{\"color\":\"#2a3f5f\"},\"error_y\":{\"color\":\"#2a3f5f\"},\"marker\":{\"line\":{\"color\":\"#E5ECF6\",\"width\":0.5},\"pattern\":{\"fillmode\":\"overlay\",\"size\":10,\"solidity\":0.2}},\"type\":\"bar\"}],\"barpolar\":[{\"marker\":{\"line\":{\"color\":\"#E5ECF6\",\"width\":0.5},\"pattern\":{\"fillmode\":\"overlay\",\"size\":10,\"solidity\":0.2}},\"type\":\"barpolar\"}],\"carpet\":[{\"aaxis\":{\"endlinecolor\":\"#2a3f5f\",\"gridcolor\":\"white\",\"linecolor\":\"white\",\"minorgridcolor\":\"white\",\"startlinecolor\":\"#2a3f5f\"},\"baxis\":{\"endlinecolor\":\"#2a3f5f\",\"gridcolor\":\"white\",\"linecolor\":\"white\",\"minorgridcolor\":\"white\",\"startlinecolor\":\"#2a3f5f\"},\"type\":\"carpet\"}],\"choropleth\":[{\"colorbar\":{\"outlinewidth\":0,\"ticks\":\"\"},\"type\":\"choropleth\"}],\"contour\":[{\"colorbar\":{\"outlinewidth\":0,\"ticks\":\"\"},\"colorscale\":[[0.0,\"#0d0887\"],[0.1111111111111111,\"#46039f\"],[0.2222222222222222,\"#7201a8\"],[0.3333333333333333,\"#9c179e\"],[0.4444444444444444,\"#bd3786\"],[0.5555555555555556,\"#d8576b\"],[0.6666666666666666,\"#ed7953\"],[0.7777777777777778,\"#fb9f3a\"],[0.8888888888888888,\"#fdca26\"],[1.0,\"#f0f921\"]],\"type\":\"contour\"}],\"contourcarpet\":[{\"colorbar\":{\"outlinewidth\":0,\"ticks\":\"\"},\"type\":\"contourcarpet\"}],\"heatmap\":[{\"colorbar\":{\"outlinewidth\":0,\"ticks\":\"\"},\"colorscale\":[[0.0,\"#0d0887\"],[0.1111111111111111,\"#46039f\"],[0.2222222222222222,\"#7201a8\"],[0.3333333333333333,\"#9c179e\"],[0.4444444444444444,\"#bd3786\"],[0.5555555555555556,\"#d8576b\"],[0.6666666666666666,\"#ed7953\"],[0.7777777777777778,\"#fb9f3a\"],[0.8888888888888888,\"#fdca26\"],[1.0,\"#f0f921\"]],\"type\":\"heatmap\"}],\"heatmapgl\":[{\"colorbar\":{\"outlinewidth\":0,\"ticks\":\"\"},\"colorscale\":[[0.0,\"#0d0887\"],[0.1111111111111111,\"#46039f\"],[0.2222222222222222,\"#7201a8\"],[0.3333333333333333,\"#9c179e\"],[0.4444444444444444,\"#bd3786\"],[0.5555555555555556,\"#d8576b\"],[0.6666666666666666,\"#ed7953\"],[0.7777777777777778,\"#fb9f3a\"],[0.8888888888888888,\"#fdca26\"],[1.0,\"#f0f921\"]],\"type\":\"heatmapgl\"}],\"histogram\":[{\"marker\":{\"pattern\":{\"fillmode\":\"overlay\",\"size\":10,\"solidity\":0.2}},\"type\":\"histogram\"}],\"histogram2d\":[{\"colorbar\":{\"outlinewidth\":0,\"ticks\":\"\"},\"colorscale\":[[0.0,\"#0d0887\"],[0.1111111111111111,\"#46039f\"],[0.2222222222222222,\"#7201a8\"],[0.3333333333333333,\"#9c179e\"],[0.4444444444444444,\"#bd3786\"],[0.5555555555555556,\"#d8576b\"],[0.6666666666666666,\"#ed7953\"],[0.7777777777777778,\"#fb9f3a\"],[0.8888888888888888,\"#fdca26\"],[1.0,\"#f0f921\"]],\"type\":\"histogram2d\"}],\"histogram2dcontour\":[{\"colorbar\":{\"outlinewidth\":0,\"ticks\":\"\"},\"colorscale\":[[0.0,\"#0d0887\"],[0.1111111111111111,\"#46039f\"],[0.2222222222222222,\"#7201a8\"],[0.3333333333333333,\"#9c179e\"],[0.4444444444444444,\"#bd3786\"],[0.5555555555555556,\"#d8576b\"],[0.6666666666666666,\"#ed7953\"],[0.7777777777777778,\"#fb9f3a\"],[0.8888888888888888,\"#fdca26\"],[1.0,\"#f0f921\"]],\"type\":\"histogram2dcontour\"}],\"mesh3d\":[{\"colorbar\":{\"outlinewidth\":0,\"ticks\":\"\"},\"type\":\"mesh3d\"}],\"parcoords\":[{\"line\":{\"colorbar\":{\"outlinewidth\":0,\"ticks\":\"\"}},\"type\":\"parcoords\"}],\"pie\":[{\"automargin\":true,\"type\":\"pie\"}],\"scatter\":[{\"marker\":{\"colorbar\":{\"outlinewidth\":0,\"ticks\":\"\"}},\"type\":\"scatter\"}],\"scatter3d\":[{\"line\":{\"colorbar\":{\"outlinewidth\":0,\"ticks\":\"\"}},\"marker\":{\"colorbar\":{\"outlinewidth\":0,\"ticks\":\"\"}},\"type\":\"scatter3d\"}],\"scattercarpet\":[{\"marker\":{\"colorbar\":{\"outlinewidth\":0,\"ticks\":\"\"}},\"type\":\"scattercarpet\"}],\"scattergeo\":[{\"marker\":{\"colorbar\":{\"outlinewidth\":0,\"ticks\":\"\"}},\"type\":\"scattergeo\"}],\"scattergl\":[{\"marker\":{\"colorbar\":{\"outlinewidth\":0,\"ticks\":\"\"}},\"type\":\"scattergl\"}],\"scattermapbox\":[{\"marker\":{\"colorbar\":{\"outlinewidth\":0,\"ticks\":\"\"}},\"type\":\"scattermapbox\"}],\"scatterpolar\":[{\"marker\":{\"colorbar\":{\"outlinewidth\":0,\"ticks\":\"\"}},\"type\":\"scatterpolar\"}],\"scatterpolargl\":[{\"marker\":{\"colorbar\":{\"outlinewidth\":0,\"ticks\":\"\"}},\"type\":\"scatterpolargl\"}],\"scatterternary\":[{\"marker\":{\"colorbar\":{\"outlinewidth\":0,\"ticks\":\"\"}},\"type\":\"scatterternary\"}],\"surface\":[{\"colorbar\":{\"outlinewidth\":0,\"ticks\":\"\"},\"colorscale\":[[0.0,\"#0d0887\"],[0.1111111111111111,\"#46039f\"],[0.2222222222222222,\"#7201a8\"],[0.3333333333333333,\"#9c179e\"],[0.4444444444444444,\"#bd3786\"],[0.5555555555555556,\"#d8576b\"],[0.6666666666666666,\"#ed7953\"],[0.7777777777777778,\"#fb9f3a\"],[0.8888888888888888,\"#fdca26\"],[1.0,\"#f0f921\"]],\"type\":\"surface\"}],\"table\":[{\"cells\":{\"fill\":{\"color\":\"#EBF0F8\"},\"line\":{\"color\":\"white\"}},\"header\":{\"fill\":{\"color\":\"#C8D4E3\"},\"line\":{\"color\":\"white\"}},\"type\":\"table\"}]},\"layout\":{\"annotationdefaults\":{\"arrowcolor\":\"#2a3f5f\",\"arrowhead\":0,\"arrowwidth\":1},\"autotypenumbers\":\"strict\",\"coloraxis\":{\"colorbar\":{\"outlinewidth\":0,\"ticks\":\"\"}},\"colorscale\":{\"diverging\":[[0,\"#8e0152\"],[0.1,\"#c51b7d\"],[0.2,\"#de77ae\"],[0.3,\"#f1b6da\"],[0.4,\"#fde0ef\"],[0.5,\"#f7f7f7\"],[0.6,\"#e6f5d0\"],[0.7,\"#b8e186\"],[0.8,\"#7fbc41\"],[0.9,\"#4d9221\"],[1,\"#276419\"]],\"sequential\":[[0.0,\"#0d0887\"],[0.1111111111111111,\"#46039f\"],[0.2222222222222222,\"#7201a8\"],[0.3333333333333333,\"#9c179e\"],[0.4444444444444444,\"#bd3786\"],[0.5555555555555556,\"#d8576b\"],[0.6666666666666666,\"#ed7953\"],[0.7777777777777778,\"#fb9f3a\"],[0.8888888888888888,\"#fdca26\"],[1.0,\"#f0f921\"]],\"sequentialminus\":[[0.0,\"#0d0887\"],[0.1111111111111111,\"#46039f\"],[0.2222222222222222,\"#7201a8\"],[0.3333333333333333,\"#9c179e\"],[0.4444444444444444,\"#bd3786\"],[0.5555555555555556,\"#d8576b\"],[0.6666666666666666,\"#ed7953\"],[0.7777777777777778,\"#fb9f3a\"],[0.8888888888888888,\"#fdca26\"],[1.0,\"#f0f921\"]]},\"colorway\":[\"#636efa\",\"#EF553B\",\"#00cc96\",\"#ab63fa\",\"#FFA15A\",\"#19d3f3\",\"#FF6692\",\"#B6E880\",\"#FF97FF\",\"#FECB52\"],\"font\":{\"color\":\"#2a3f5f\"},\"geo\":{\"bgcolor\":\"white\",\"lakecolor\":\"white\",\"landcolor\":\"#E5ECF6\",\"showlakes\":true,\"showland\":true,\"subunitcolor\":\"white\"},\"hoverlabel\":{\"align\":\"left\"},\"hovermode\":\"closest\",\"mapbox\":{\"style\":\"light\"},\"paper_bgcolor\":\"white\",\"plot_bgcolor\":\"#E5ECF6\",\"polar\":{\"angularaxis\":{\"gridcolor\":\"white\",\"linecolor\":\"white\",\"ticks\":\"\"},\"bgcolor\":\"#E5ECF6\",\"radialaxis\":{\"gridcolor\":\"white\",\"linecolor\":\"white\",\"ticks\":\"\"}},\"scene\":{\"xaxis\":{\"backgroundcolor\":\"#E5ECF6\",\"gridcolor\":\"white\",\"gridwidth\":2,\"linecolor\":\"white\",\"showbackground\":true,\"ticks\":\"\",\"zerolinecolor\":\"white\"},\"yaxis\":{\"backgroundcolor\":\"#E5ECF6\",\"gridcolor\":\"white\",\"gridwidth\":2,\"linecolor\":\"white\",\"showbackground\":true,\"ticks\":\"\",\"zerolinecolor\":\"white\"},\"zaxis\":{\"backgroundcolor\":\"#E5ECF6\",\"gridcolor\":\"white\",\"gridwidth\":2,\"linecolor\":\"white\",\"showbackground\":true,\"ticks\":\"\",\"zerolinecolor\":\"white\"}},\"shapedefaults\":{\"line\":{\"color\":\"#2a3f5f\"}},\"ternary\":{\"aaxis\":{\"gridcolor\":\"white\",\"linecolor\":\"white\",\"ticks\":\"\"},\"baxis\":{\"gridcolor\":\"white\",\"linecolor\":\"white\",\"ticks\":\"\"},\"bgcolor\":\"#E5ECF6\",\"caxis\":{\"gridcolor\":\"white\",\"linecolor\":\"white\",\"ticks\":\"\"}},\"title\":{\"x\":0.05},\"xaxis\":{\"automargin\":true,\"gridcolor\":\"white\",\"linecolor\":\"white\",\"ticks\":\"\",\"title\":{\"standoff\":15},\"zerolinecolor\":\"white\",\"zerolinewidth\":2},\"yaxis\":{\"automargin\":true,\"gridcolor\":\"white\",\"linecolor\":\"white\",\"ticks\":\"\",\"title\":{\"standoff\":15},\"zerolinecolor\":\"white\",\"zerolinewidth\":2}}},\"xaxis\":{\"anchor\":\"y\",\"domain\":[0.0,1.0],\"title\":{\"text\":\"Name\"}},\"yaxis\":{\"anchor\":\"x\",\"domain\":[0.0,1.0],\"title\":{\"text\":\"Championships\"}},\"legend\":{\"title\":{\"text\":\"HOF\"},\"tracegroupgap\":0},\"margin\":{\"t\":60}},                        {\"responsive\": true}                    ).then(function(){\n",
              "                            \n",
              "var gd = document.getElementById('d7503b82-e2a6-461a-a151-f339c2cd6c2e');\n",
              "var x = new MutationObserver(function (mutations, observer) {{\n",
              "        var display = window.getComputedStyle(gd).display;\n",
              "        if (!display || display === 'none') {{\n",
              "            console.log([gd, 'removed!']);\n",
              "            Plotly.purge(gd);\n",
              "            observer.disconnect();\n",
              "        }}\n",
              "}});\n",
              "\n",
              "// Listen for the removal of the full notebook cells\n",
              "var notebookContainer = gd.closest('#notebook-container');\n",
              "if (notebookContainer) {{\n",
              "    x.observe(notebookContainer, {childList: true});\n",
              "}}\n",
              "\n",
              "// Listen for the clearing of the current output cell\n",
              "var outputEl = gd.closest('.output');\n",
              "if (outputEl) {{\n",
              "    x.observe(outputEl, {childList: true});\n",
              "}}\n",
              "\n",
              "                        })                };                            </script>        </div>\n",
              "</body>\n",
              "</html>"
            ]
          },
          "metadata": {}
        }
      ]
    },
    {
      "cell_type": "markdown",
      "source": [
        "From this scatter plot, almost all players with more than 4 championships are in the HOF, with the exception being Robert Horry with 7 championships. He never made an All Star team so he didn't show up in our data, but he is the lone exception. He was more of a supporting role player, and this is the same reasoning for those with at least 4 championships who did not make the HOF, excluding active players. Winning a championship is not an individual effort, and most teams were not stacked with HOF'ers on the roster. Players such as Tony Parker and Manu Ginobili were on the San Antonio Spurs championship teams, but were role players supporting the star of the team, Tim Duncan."
      ],
      "metadata": {
        "id": "krdDktqDcQoI"
      }
    },
    {
      "cell_type": "code",
      "source": [
        "plt.figure(figsize=(8, 5))\n",
        "sns.boxplot(x='HOF', y='PTS',\n",
        "    data=df1, hue='HOF', palette='deep')\n",
        "plt.xlabel(\"HOF Inductions\")\n",
        "plt.ylabel(\"Point Scored\")\n",
        "plt.title(\"Points Scored, NBA HOF\")\n",
        "plt.show()\n",
        "plt.close()"
      ],
      "metadata": {
        "colab": {
          "base_uri": "https://localhost:8080/",
          "height": 350
        },
        "id": "XPq_rwwZRWD6",
        "outputId": "90e55b62-ff81-4d51-9fd9-00c828e4e9d6"
      },
      "execution_count": null,
      "outputs": [
        {
          "output_type": "display_data",
          "data": {
            "text/plain": [
              "<Figure size 576x360 with 1 Axes>"
            ],
            "image/png": "[encoded data removed]"
          },
          "metadata": {
            "needs_background": "light"
          }
        }
      ]
    },
    {
      "cell_type": "markdown",
      "source": [
        " We decided to focus on points because Assists and Rebounds are usually positionally dependent, but points need to be scored by all players regardless of position. Here we take a look at how points scored might affect HOF inductions and the means show that HOF'ers scored around 5k points more than non HOF'ers. There are some notable exceptions on the left side with LeBron James being the all time leader in points scored but still being active. Most of the outliers scoring over 20k points not in the HOF are still active.  "
      ],
      "metadata": {
        "id": "BAjV0DKHaSvo"
      }
    },
    {
      "cell_type": "markdown",
      "source": [
        "Not active, not in HOF, High points: Dirk N.,Vince Carter, Pau Gasol, D-Wade\n",
        "Tom Chambers, Vince Carter, Antawn Jamison are among those retired with 20k+ points but not in the HOF."
      ],
      "metadata": {
        "id": "bSttzgWCuh0B"
      }
    },
    {
      "cell_type": "markdown",
      "source": [
        "Not active and in HOF low points: Bill walton, Ben Wallace, Dennis Rodman"
      ],
      "metadata": {
        "id": "YbspWeDJuwof"
      }
    },
    {
      "cell_type": "code",
      "source": [
        "plt.figure(figsize=(8, 5))\n",
        "sns.boxplot(x='Championships', y='All Star Selections',\n",
        "    data=df1, hue='HOF', palette='deep')\n",
        "plt.xlabel(\"Championships\")\n",
        "plt.ylabel(\"Number of All-star selections\")\n",
        "plt.title(\"Number of All-star selections, NBA HOF\")\n",
        "plt.show()\n",
        "plt.close()"
      ],
      "metadata": {
        "id": "s9fWVOK6IWqP",
        "colab": {
          "base_uri": "https://localhost:8080/",
          "height": 350
        },
        "outputId": "9a4f340d-f6b3-41b3-d9e4-b21399f3d8d7"
      },
      "execution_count": null,
      "outputs": [
        {
          "output_type": "display_data",
          "data": {
            "text/plain": [
              "<Figure size 576x360 with 1 Axes>"
            ],
            "image/png": "[encoded data removed]"
          },
          "metadata": {
            "needs_background": "light"
          }
        }
      ]
    },
    {
      "cell_type": "markdown",
      "source": [
        "5 championships is a very good indicator of making the hall of fame, but if you dont couple that with other individual accomphlishments you could left of the HOF selection. An example of this would be Robert Horry, he has 7 championships, but no All-star selections.\n"
      ],
      "metadata": {
        "id": "HsxnSuq9NGPc"
      }
    },
    {
      "cell_type": "markdown",
      "source": [
        "HOF, Low all star count, and are a champion: Dennis Rodman,Bill Bradley, Bill Walton.Pau Gasol, Tony Parker,"
      ],
      "metadata": {
        "id": "12_Hptwi-5OC"
      }
    },
    {
      "cell_type": "markdown",
      "source": [
        "Not HOF & mid to high all star count, not a champion: Vince Carter, Joe Johnson.\n"
      ],
      "metadata": {
        "id": "qHl6EgHMtwkJ"
      }
    },
    {
      "cell_type": "markdown",
      "source": [
        "#Conclusion"
      ],
      "metadata": {
        "id": "t-18cO5FvtUm"
      }
    },
    {
      "cell_type": "markdown",
      "source": [
        "Based on our analysis we concluded that no one key indicator gauranteed a player to be in the HOF, but a combination of accomplishments (Championships, All-Star Selections, and MVP) gave the player the best chance of making the HOF. One other factor that we wanted to note played in a player being the HOF is popularity. For example Yao Ming, with 8 All-Star Selections, no championships, and a short careers due to injuries still made the HOF due to his global impact for the game of basketball."
      ],
      "metadata": {
        "id": "u6V-aqQrvzYt"
      }
    },
    {
      "cell_type": "markdown",
      "source": [
        "#END OF ANALYSIS"
      ],
      "metadata": {
        "id": "HjeR4GzHlfm2"
      }
    },
    {
      "cell_type": "code",
      "source": [
        "#df1.to_csv('data.csv') CSV to google sheets"
      ],
      "metadata": {
        "id": "9kIfo7ifwzOb"
      },
      "execution_count": null,
      "outputs": []
    },
    {
      "cell_type": "code",
      "source": [
        "#create a function to find outliers using IQR\n",
        "\n",
        "def find_outliers_IQR(df):\n",
        "\n",
        "   q1=df.quantile(0.25)\n",
        "\n",
        "   q3=df.quantile(0.75)\n",
        "\n",
        "   IQR=q3-q1\n",
        "\n",
        "   outliers = df[((df<(q1-1.5*IQR)) | (df>(q3+1.5*IQR)))]\n",
        "\n",
        "   return outliers"
      ],
      "metadata": {
        "id": "THxbyvX8aCkM"
      },
      "execution_count": null,
      "outputs": []
    },
    {
      "cell_type": "code",
      "source": [
        "#First run fare_amount through the function to return a series of the outliers.\n",
        "\n",
        "outliers = find_outliers_IQR(df1[\"All Star Selections\"])\n",
        "\n",
        "print(\"number of outliers:\" + str(len(outliers)))\n",
        "\n",
        "print(\"max outlier value:\"+ str(outliers.max()))\n",
        "\n",
        "print(\"min outlier value:\"+ str(outliers.min()))\n",
        "\n",
        "outliers"
      ],
      "metadata": {
        "id": "QyQS1l1aaWwb"
      },
      "execution_count": null,
      "outputs": []
    },
    {
      "cell_type": "code",
      "source": [
        "outliers = find_outliers_IQR(df1[[\"Championships\",\"All Star Selections\",]])\n",
        "outliers\n",
        "\n",
        "outlierdf = outliers\n",
        "display(outlierdf)"
      ],
      "metadata": {
        "id": "LAGGhO1dV2sY"
      },
      "execution_count": null,
      "outputs": []
    },
    {
      "cell_type": "code",
      "source": [
        "display(outlierdf)"
      ],
      "metadata": {
        "id": "8siVCfmEhx68"
      },
      "execution_count": null,
      "outputs": []
    },
    {
      "cell_type": "code",
      "source": [
        "print(df1.loc[[6,9,13,14,15,17,19,20,22,23,24]])"
      ],
      "metadata": {
        "id": "Lp6q8hgMbmCy"
      },
      "execution_count": null,
      "outputs": []
    },
    {
      "cell_type": "code",
      "source": [
        "outliers = find_outliers_IQR(df1[\"MVP\"])\n",
        "\n",
        "print(\"number of outliers:\" + str(len(outliers)))\n",
        "\n",
        "print(\"max outlier value:\"+ str(outliers.max()))\n",
        "\n",
        "print(\"min outlier value:\"+ str(outliers.min()))\n",
        "\n",
        "outliers"
      ],
      "metadata": {
        "id": "eAgz0LlQPtAc"
      },
      "execution_count": null,
      "outputs": []
    },
    {
      "cell_type": "code",
      "source": [
        "print(df1.loc[[121]])"
      ],
      "metadata": {
        "id": "xRYgN7KHQtVB"
      },
      "execution_count": null,
      "outputs": []
    },
    {
      "cell_type": "code",
      "source": [
        "import cufflinks as cf\n",
        "from plotly.offline import download_plotlyjs, init_notebook_mode, plot, iplot\n",
        "cf.go_offline()"
      ],
      "metadata": {
        "id": "VqvOTVdzIWhu",
        "colab": {
          "base_uri": "https://localhost:8080/",
          "height": 17
        },
        "outputId": "d6c7d611-6ce5-497e-cebb-a762bbb08fbf"
      },
      "execution_count": null,
      "outputs": [
        {
          "output_type": "display_data",
          "data": {
            "text/html": [
              "        <script type=\"text/javascript\">\n",
              "        window.PlotlyConfig = {MathJaxConfig: 'local'};\n",
              "        if (window.MathJax) {MathJax.Hub.Config({SVG: {font: \"STIX-Web\"}});}\n",
              "        if (typeof require !== 'undefined') {\n",
              "        require.undef(\"plotly\");\n",
              "        requirejs.config({\n",
              "            paths: {\n",
              "                'plotly': ['https://cdn.plot.ly/plotly-2.8.3.min']\n",
              "            }\n",
              "        });\n",
              "        require(['plotly'], function(Plotly) {\n",
              "            window._Plotly = Plotly;\n",
              "        });\n",
              "        }\n",
              "        </script>\n",
              "        "
            ]
          },
          "metadata": {}
        }
      ]
    },
    {
      "cell_type": "code",
      "source": [
        "x=df1[['All Star Selections','Championships', 'MVP', 'PTS', 'FG%', 'FT%', 'PTS','REB', 'AST']]\n",
        "y=df1['HOF']"
      ],
      "metadata": {
        "id": "f565sWo1IWez"
      },
      "execution_count": null,
      "outputs": []
    },
    {
      "cell_type": "code",
      "source": [
        "reg=LinearRegression()\n",
        "reg.fit(x,y)"
      ],
      "metadata": {
        "id": "RCpwx7DdIWcH"
      },
      "execution_count": null,
      "outputs": []
    }
  ]
}